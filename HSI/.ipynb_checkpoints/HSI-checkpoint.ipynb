{
 "cells": [
  {
   "cell_type": "code",
   "execution_count": 1,
   "metadata": {},
   "outputs": [],
   "source": [
    "import numpy as np\n",
    "import pandas as pd\n",
    "import sys\n",
    "sys.path.insert(1, '/Users/chengpeng/Desktop/Research/STAT/CIBer')\n",
    "import comonotonic as cm\n",
    "import os\n",
    "from sklearn.model_selection import train_test_split\n",
    "from sklearn import preprocessing\n",
    "from sklearn.model_selection import KFold\n",
    "from sklearn.metrics import accuracy_score\n",
    "import copy\n",
    "import utils\n",
    "import matplotlib.pyplot as plt\n",
    "from imblearn.over_sampling import SMOTE\n",
    "from sklearn.metrics import classification_report\n",
    "from sklearn.preprocessing import StandardScaler"
   ]
  },
  {
   "cell_type": "code",
   "execution_count": 2,
   "metadata": {},
   "outputs": [],
   "source": [
    "df = pd.read_excel(\"HSI.xlsx\")\n",
    "df = df.drop(df.columns[[0]], axis=1)\n",
    "colnames = [('X'+str(i)) for i in range(df.shape[1]-1)]\n",
    "colnames.append('Y')\n",
    "df.columns = colnames\n",
    "scaler = preprocessing.MinMaxScaler()\n",
    "df[colnames[:-1]] = scaler.fit_transform(df[colnames[:-1]])"
   ]
  },
  {
   "cell_type": "code",
   "execution_count": 4,
   "metadata": {},
   "outputs": [
    {
     "name": "stderr",
     "output_type": "stream",
     "text": [
      "<ipython-input-4-4d6404655c82>:5: SettingWithCopyWarning: \n",
      "A value is trying to be set on a copy of a slice from a DataFrame.\n",
      "Try using .loc[row_indexer,col_indexer] = value instead\n",
      "\n",
      "See the caveats in the documentation: https://pandas.pydata.org/pandas-docs/stable/user_guide/indexing.html#returning-a-view-versus-a-copy\n",
      "  df_train[scale_col_name] = scaler.fit_transform(df_train[scale_col_name])\n",
      "/Users/chengpeng/opt/anaconda3/lib/python3.8/site-packages/pandas/core/indexing.py:1736: SettingWithCopyWarning: \n",
      "A value is trying to be set on a copy of a slice from a DataFrame.\n",
      "Try using .loc[row_indexer,col_indexer] = value instead\n",
      "\n",
      "See the caveats in the documentation: https://pandas.pydata.org/pandas-docs/stable/user_guide/indexing.html#returning-a-view-versus-a-copy\n",
      "  isetter(loc, value[:, i].tolist())\n",
      "<ipython-input-4-4d6404655c82>:7: SettingWithCopyWarning: \n",
      "A value is trying to be set on a copy of a slice from a DataFrame.\n",
      "Try using .loc[row_indexer,col_indexer] = value instead\n",
      "\n",
      "See the caveats in the documentation: https://pandas.pydata.org/pandas-docs/stable/user_guide/indexing.html#returning-a-view-versus-a-copy\n",
      "  df_test[scale_col_name] = scaler.transform(df_test[scale_col_name])\n",
      "/Users/chengpeng/opt/anaconda3/lib/python3.8/site-packages/pandas/core/indexing.py:1736: SettingWithCopyWarning: \n",
      "A value is trying to be set on a copy of a slice from a DataFrame.\n",
      "Try using .loc[row_indexer,col_indexer] = value instead\n",
      "\n",
      "See the caveats in the documentation: https://pandas.pydata.org/pandas-docs/stable/user_guide/indexing.html#returning-a-view-versus-a-copy\n",
      "  isetter(loc, value[:, i].tolist())\n"
     ]
    }
   ],
   "source": [
    "cont_col = [i for i in range(7)]\n",
    "df_train, df_test = train_test_split(df, test_size=0.3, stratify=df[['Y']])\n",
    "scaler = preprocessing.StandardScaler()\n",
    "scale_col_name = [\"X\"+str(i) for i in cont_col]\n",
    "df_train[scale_col_name] = scaler.fit_transform(df_train[scale_col_name])\n",
    "reduced_df_train = utils.outlier_removal(df_train, cont_col)\n",
    "df_test[scale_col_name] = scaler.transform(df_test[scale_col_name])"
   ]
  },
  {
   "cell_type": "code",
   "execution_count": 5,
   "metadata": {},
   "outputs": [],
   "source": [
    "x_train = reduced_df_train.iloc[:,:-1].to_numpy()\n",
    "y_train = reduced_df_train.iloc[:,-1].to_numpy()\n",
    "smote = SMOTE(random_state=0)\n",
    "x_train_synthetic, y_train_synthetic = smote.fit_resample(x_train, y_train)\n",
    "x_test = df_test.iloc[:,:-1].to_numpy()\n",
    "y_test = df_test.iloc[:,-1].to_numpy()"
   ]
  },
  {
   "cell_type": "code",
   "execution_count": 7,
   "metadata": {},
   "outputs": [
    {
     "name": "stdout",
     "output_type": "stream",
     "text": [
      "              precision    recall  f1-score   support\n",
      "\n",
      "           0       0.98      0.90      0.94       154\n",
      "           1       0.43      0.80      0.56        15\n",
      "\n",
      "    accuracy                           0.89       169\n",
      "   macro avg       0.70      0.85      0.75       169\n",
      "weighted avg       0.93      0.89      0.90       169\n",
      "\n"
     ]
    }
   ],
   "source": [
    "ciber = cm.clustered_comonotonic(x_train_synthetic,y_train_synthetic,None,cont_col,\n",
    "                                      [], 0.8, None, corrtype='spearman',\n",
    "                                      discrete_method='mdlp')\n",
    "ciber.run()\n",
    "ciber_predict = c_como_demo.predict(x_test)\n",
    "print(classification_report(y_test, ciber_predict))"
   ]
  }
 ],
 "metadata": {
  "kernelspec": {
   "display_name": "Python 3",
   "language": "python",
   "name": "python3"
  },
  "language_info": {
   "codemirror_mode": {
    "name": "ipython",
    "version": 3
   },
   "file_extension": ".py",
   "mimetype": "text/x-python",
   "name": "python",
   "nbconvert_exporter": "python",
   "pygments_lexer": "ipython3",
   "version": "3.8.5"
  }
 },
 "nbformat": 4,
 "nbformat_minor": 2
}
