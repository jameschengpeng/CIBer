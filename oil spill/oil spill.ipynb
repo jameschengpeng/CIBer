{
 "cells": [
  {
   "cell_type": "code",
   "execution_count": 1,
   "metadata": {},
   "outputs": [],
   "source": [
    "import numpy as np\n",
    "import pandas as pd\n",
    "import sys\n",
    "sys.path.insert(1, '/Users/chengpeng/Desktop/Research/STAT/CIBer')\n",
    "import comonotonic as cm\n",
    "import ensemble_ciber as ec\n",
    "import math\n",
    "import os\n",
    "from sklearn.model_selection import train_test_split\n",
    "from sklearn import preprocessing\n",
    "from sklearn.model_selection import KFold\n",
    "from sklearn.metrics import accuracy_score\n",
    "import copy\n",
    "import utils\n",
    "import matplotlib.pyplot as plt\n",
    "import seaborn as sns\n",
    "from sklearn.metrics import classification_report\n",
    "from imblearn.over_sampling import SMOTE\n",
    "import ensemble_ciber as ec\n",
    "from sklearn.ensemble import AdaBoostClassifier\n",
    "from sklearn.ensemble import RandomForestClassifier\n",
    "import xgboost as xgb\n",
    "import lightgbm as lgb\n",
    "from sklearn import tree\n",
    "from sklearn.svm import SVC\n",
    "from sklearn.linear_model import LogisticRegression\n",
    "from sklearn.naive_bayes import GaussianNB\n",
    "from imblearn.over_sampling import SMOTENC\n",
    "import xlsxwriter"
   ]
  },
  {
   "cell_type": "code",
   "execution_count": 2,
   "metadata": {},
   "outputs": [],
   "source": [
    "df = pd.read_csv('oil_spill.csv')\n",
    "df.drop(df.columns[[0,22]], axis = 1, inplace=True)"
   ]
  },
  {
   "cell_type": "code",
   "execution_count": 3,
   "metadata": {},
   "outputs": [],
   "source": [
    "colnames = [('X'+str(i)) for i in range(df.shape[1]-1)]\n",
    "colnames.append('Y')\n",
    "df.columns = colnames"
   ]
  },
  {
   "cell_type": "code",
   "execution_count": 4,
   "metadata": {},
   "outputs": [],
   "source": [
    "categorical = []\n",
    "cont_col = [i for i in range(df.shape[1]-1)]\n",
    "discrete_feature_val = None"
   ]
  },
  {
   "cell_type": "code",
   "execution_count": 5,
   "metadata": {},
   "outputs": [],
   "source": [
    "#scaler = preprocessing.MinMaxScaler()\n",
    "#scaler = preprocessing.PowerTransformer()\n",
    "scaler = preprocessing.StandardScaler()\n",
    "scale_col_name = [\"X\"+str(i) for i in cont_col]\n",
    "df[scale_col_name] = scaler.fit_transform(df[scale_col_name])"
   ]
  },
  {
   "cell_type": "code",
   "execution_count": 6,
   "metadata": {},
   "outputs": [],
   "source": [
    "x = df.iloc[:,:-1].to_numpy()\n",
    "y = df.iloc[:,-1].to_numpy()\n",
    "smote = SMOTE(random_state=0)\n",
    "x_resample, y_resample = smote.fit_resample(x, y)"
   ]
  },
  {
   "cell_type": "code",
   "execution_count": 7,
   "metadata": {},
   "outputs": [],
   "source": [
    "x_train,x_test,y_train,y_test = train_test_split(x_resample,y_resample,\n",
    "                                                 test_size=0.2)"
   ]
  },
  {
   "cell_type": "code",
   "execution_count": 8,
   "metadata": {},
   "outputs": [],
   "source": [
    "c_como_demo = cm.clustered_comonotonic(x_train,y_train,discrete_feature_val,cont_col,\n",
    "                                      categorical, 0.995, None, corrtype='mutual_info',\n",
    "                                      discrete_method='mdlp')\n",
    "c_como_demo.run()"
   ]
  },
  {
   "cell_type": "code",
   "execution_count": 9,
   "metadata": {},
   "outputs": [
    {
     "name": "stdout",
     "output_type": "stream",
     "text": [
      "              precision    recall  f1-score   support\n",
      "\n",
      "           0       0.99      0.98      0.99       176\n",
      "           1       0.98      0.99      0.99       183\n",
      "\n",
      "    accuracy                           0.99       359\n",
      "   macro avg       0.99      0.99      0.99       359\n",
      "weighted avg       0.99      0.99      0.99       359\n",
      "\n"
     ]
    }
   ],
   "source": [
    "c_como_predict = c_como_demo.predict(x_test)\n",
    "print(classification_report(y_test,c_como_predict))"
   ]
  },
  {
   "cell_type": "code",
   "execution_count": 11,
   "metadata": {},
   "outputs": [
    {
     "name": "stdout",
     "output_type": "stream",
     "text": [
      "              precision    recall  f1-score   support\n",
      "\n",
      "           0       1.00      0.98      0.99       178\n",
      "           1       0.98      1.00      0.99       181\n",
      "\n",
      "    accuracy                           0.99       359\n",
      "   macro avg       0.99      0.99      0.99       359\n",
      "weighted avg       0.99      0.99      0.99       359\n",
      "\n"
     ]
    }
   ],
   "source": [
    "xgb_clf = xgb.XGBClassifier()\n",
    "xgb_clf.fit(x_train,y_train)\n",
    "xgb_predict = xgb_clf.predict(x_test)\n",
    "print(classification_report(y_test, xgb_predict))"
   ]
  },
  {
   "cell_type": "code",
   "execution_count": 12,
   "metadata": {},
   "outputs": [
    {
     "name": "stdout",
     "output_type": "stream",
     "text": [
      "              precision    recall  f1-score   support\n",
      "\n",
      "           0       0.99      0.99      0.99       178\n",
      "           1       0.99      0.99      0.99       181\n",
      "\n",
      "    accuracy                           0.99       359\n",
      "   macro avg       0.99      0.99      0.99       359\n",
      "weighted avg       0.99      0.99      0.99       359\n",
      "\n"
     ]
    },
    {
     "name": "stderr",
     "output_type": "stream",
     "text": [
      "/home/r7user5/anaconda3/lib/python3.7/site-packages/sklearn/ensemble/forest.py:245: FutureWarning: The default value of n_estimators will change from 10 in version 0.20 to 100 in 0.22.\n",
      "  \"10 in version 0.20 to 100 in 0.22.\", FutureWarning)\n"
     ]
    }
   ],
   "source": [
    "rf_clf = RandomForestClassifier()\n",
    "rf_clf.fit(x_train,y_train)\n",
    "rf_predict = rf_clf.predict(x_test)\n",
    "print(classification_report(y_test, rf_predict))"
   ]
  },
  {
   "cell_type": "code",
   "execution_count": 13,
   "metadata": {},
   "outputs": [
    {
     "name": "stdout",
     "output_type": "stream",
     "text": [
      "              precision    recall  f1-score   support\n",
      "\n",
      "           0       0.98      0.97      0.97       178\n",
      "           1       0.97      0.98      0.98       181\n",
      "\n",
      "    accuracy                           0.97       359\n",
      "   macro avg       0.98      0.97      0.97       359\n",
      "weighted avg       0.98      0.97      0.97       359\n",
      "\n"
     ]
    }
   ],
   "source": [
    "ada_clf = AdaBoostClassifier()\n",
    "ada_clf.fit(x_train,y_train)\n",
    "ada_predict = ada_clf.predict(x_test)\n",
    "print(classification_report(y_test, ada_predict))"
   ]
  },
  {
   "cell_type": "code",
   "execution_count": 15,
   "metadata": {},
   "outputs": [
    {
     "name": "stdout",
     "output_type": "stream",
     "text": [
      "              precision    recall  f1-score   support\n",
      "\n",
      "           0       0.99      0.99      0.99       178\n",
      "           1       0.99      0.99      0.99       181\n",
      "\n",
      "    accuracy                           0.99       359\n",
      "   macro avg       0.99      0.99      0.99       359\n",
      "weighted avg       0.99      0.99      0.99       359\n",
      "\n"
     ]
    }
   ],
   "source": [
    "lgb_clf = lgb.LGBMClassifier()\n",
    "lgb_clf.fit(x_train, y_train)\n",
    "lgb_predict = lgb_clf.predict(x_test)\n",
    "lgb_predict = lgb_predict.round(0).astype('int')\n",
    "print(classification_report(y_test, lgb_predict))"
   ]
  },
  {
   "cell_type": "code",
   "execution_count": 16,
   "metadata": {},
   "outputs": [
    {
     "name": "stdout",
     "output_type": "stream",
     "text": [
      "              precision    recall  f1-score   support\n",
      "\n",
      "           0       0.96      0.94      0.95       178\n",
      "           1       0.95      0.96      0.95       181\n",
      "\n",
      "    accuracy                           0.95       359\n",
      "   macro avg       0.95      0.95      0.95       359\n",
      "weighted avg       0.95      0.95      0.95       359\n",
      "\n"
     ]
    }
   ],
   "source": [
    "DT_clf = tree.DecisionTreeClassifier()\n",
    "DT_clf.fit(x_train,y_train)\n",
    "DT_predict = DT_clf.predict(x_test)\n",
    "print(classification_report(y_test, DT_predict))"
   ]
  },
  {
   "cell_type": "code",
   "execution_count": 17,
   "metadata": {},
   "outputs": [
    {
     "name": "stderr",
     "output_type": "stream",
     "text": [
      "/home/r7user5/anaconda3/lib/python3.7/site-packages/sklearn/svm/base.py:193: FutureWarning: The default value of gamma will change from 'auto' to 'scale' in version 0.22 to account better for unscaled features. Set gamma explicitly to 'auto' or 'scale' to avoid this warning.\n",
      "  \"avoid this warning.\", FutureWarning)\n"
     ]
    },
    {
     "name": "stdout",
     "output_type": "stream",
     "text": [
      "              precision    recall  f1-score   support\n",
      "\n",
      "           0       0.85      0.88      0.86       178\n",
      "           1       0.87      0.85      0.86       181\n",
      "\n",
      "    accuracy                           0.86       359\n",
      "   macro avg       0.86      0.86      0.86       359\n",
      "weighted avg       0.86      0.86      0.86       359\n",
      "\n"
     ]
    }
   ],
   "source": [
    "svm = SVC()\n",
    "svm.fit(x_train, y_train)\n",
    "svm_predict = svm.predict(x_test)\n",
    "print(classification_report(y_test, svm_predict))"
   ]
  },
  {
   "cell_type": "code",
   "execution_count": 18,
   "metadata": {},
   "outputs": [
    {
     "name": "stdout",
     "output_type": "stream",
     "text": [
      "              precision    recall  f1-score   support\n",
      "\n",
      "           0       0.88      0.90      0.89       178\n",
      "           1       0.90      0.88      0.89       181\n",
      "\n",
      "    accuracy                           0.89       359\n",
      "   macro avg       0.89      0.89      0.89       359\n",
      "weighted avg       0.89      0.89      0.89       359\n",
      "\n"
     ]
    },
    {
     "name": "stderr",
     "output_type": "stream",
     "text": [
      "/home/r7user5/anaconda3/lib/python3.7/site-packages/sklearn/linear_model/logistic.py:432: FutureWarning: Default solver will be changed to 'lbfgs' in 0.22. Specify a solver to silence this warning.\n",
      "  FutureWarning)\n"
     ]
    }
   ],
   "source": [
    "lr = LogisticRegression()\n",
    "lr.fit(x_train, y_train)\n",
    "lr_predict = lr.predict(x_test)\n",
    "print(classification_report(y_test, lr_predict))"
   ]
  },
  {
   "cell_type": "code",
   "execution_count": 11,
   "metadata": {},
   "outputs": [
    {
     "name": "stdout",
     "output_type": "stream",
     "text": [
      "              precision    recall  f1-score   support\n",
      "\n",
      "           0       0.95      0.99      0.97       170\n",
      "           1       0.99      0.96      0.98       189\n",
      "\n",
      "    accuracy                           0.97       359\n",
      "   macro avg       0.97      0.98      0.97       359\n",
      "weighted avg       0.98      0.97      0.97       359\n",
      "\n"
     ]
    }
   ],
   "source": [
    "ciber_nb = cm.clustered_comonotonic(x_train,y_train,discrete_feature_val,cont_col,\n",
    "                                categorical, 1, None, corrtype='mutual_info',\n",
    "                                discrete_method='mdlp')\n",
    "ciber_nb.run()\n",
    "ciber_nb_predict = ciber_nb.predict(x_test)\n",
    "print(classification_report(y_test,ciber_nb_predict))"
   ]
  },
  {
   "cell_type": "code",
   "execution_count": null,
   "metadata": {},
   "outputs": [],
   "source": []
  }
 ],
 "metadata": {
  "kernelspec": {
   "display_name": "Python 3",
   "language": "python",
   "name": "python3"
  },
  "language_info": {
   "codemirror_mode": {
    "name": "ipython",
    "version": 3
   },
   "file_extension": ".py",
   "mimetype": "text/x-python",
   "name": "python",
   "nbconvert_exporter": "python",
   "pygments_lexer": "ipython3",
   "version": "3.8.5"
  }
 },
 "nbformat": 4,
 "nbformat_minor": 2
}
