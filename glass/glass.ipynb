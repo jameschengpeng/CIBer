{
 "cells": [
  {
   "cell_type": "code",
   "execution_count": 1,
   "metadata": {},
   "outputs": [],
   "source": [
    "import numpy as np\n",
    "import pandas as pd\n",
    "import sys\n",
    "sys.path.insert(1, '/Users/chengpeng/Desktop/Research/STAT/CIBer')\n",
    "import comonotonic as cm\n",
    "import os\n",
    "from sklearn.model_selection import train_test_split\n",
    "from sklearn import preprocessing\n",
    "from sklearn.model_selection import KFold\n",
    "from sklearn.metrics import accuracy_score\n",
    "import copy\n",
    "import utils\n",
    "import matplotlib.pyplot as plt\n",
    "import seaborn as sns\n",
    "from sklearn.metrics import classification_report\n",
    "from imblearn.over_sampling import SMOTE\n",
    "import ensemble_ciber as ec\n",
    "from sklearn.ensemble import AdaBoostClassifier\n",
    "from sklearn.ensemble import RandomForestClassifier\n",
    "import xgboost as xgb\n",
    "import lightgbm as lgb\n",
    "from sklearn import tree\n",
    "from sklearn.svm import SVC\n",
    "from sklearn.linear_model import LogisticRegression\n",
    "from sklearn.naive_bayes import GaussianNB\n",
    "from imblearn.over_sampling import SMOTENC\n",
    "import xlsxwriter"
   ]
  },
  {
   "cell_type": "code",
   "execution_count": 2,
   "metadata": {},
   "outputs": [],
   "source": [
    "df = pd.read_csv('glass.csv')"
   ]
  },
  {
   "cell_type": "code",
   "execution_count": 3,
   "metadata": {},
   "outputs": [],
   "source": [
    "colnames = [('X'+str(i)) for i in range(df.shape[1]-1)]\n",
    "colnames.append('Y')\n",
    "df.columns = colnames"
   ]
  },
  {
   "cell_type": "code",
   "execution_count": 4,
   "metadata": {},
   "outputs": [],
   "source": [
    "categorical = []\n",
    "cont_col = [i for i in range(df.shape[1]-1)]\n",
    "discrete_feature_val = None"
   ]
  },
  {
   "cell_type": "code",
   "execution_count": 5,
   "metadata": {},
   "outputs": [],
   "source": [
    "scaler = preprocessing.StandardScaler()\n",
    "scale_col_name = [\"X\"+str(i) for i in cont_col]\n",
    "df[scale_col_name] = scaler.fit_transform(df[scale_col_name])\n",
    "reduced_df = utils.outlier_removal(df, cont_col)"
   ]
  },
  {
   "cell_type": "code",
   "execution_count": 6,
   "metadata": {},
   "outputs": [],
   "source": [
    "x = reduced_df.iloc[:,:-1].to_numpy()\n",
    "y = reduced_df.iloc[:,-1].to_numpy()\n",
    "smote = SMOTE(random_state=0)\n",
    "x_resample, y_resample = smote.fit_resample(x, y)"
   ]
  },
  {
   "cell_type": "code",
   "execution_count": 7,
   "metadata": {},
   "outputs": [],
   "source": [
    "x_train,x_test,y_train,y_test = train_test_split(x_resample,y_resample,test_size=0.2)"
   ]
  },
  {
   "cell_type": "code",
   "execution_count": 8,
   "metadata": {},
   "outputs": [
    {
     "name": "stdout",
     "output_type": "stream",
     "text": [
      "              precision    recall  f1-score   support\n",
      "\n",
      "           1       0.64      0.75      0.69        12\n",
      "           2       1.00      0.55      0.71        11\n",
      "           3       0.65      0.73      0.69        15\n",
      "           5       0.95      0.95      0.95        20\n",
      "           6       1.00      1.00      1.00        13\n",
      "           7       0.95      1.00      0.97        19\n",
      "\n",
      "    accuracy                           0.86        90\n",
      "   macro avg       0.86      0.83      0.84        90\n",
      "weighted avg       0.87      0.86      0.85        90\n",
      "\n"
     ]
    }
   ],
   "source": [
    "c_como_demo = cm.clustered_comonotonic(x_train,y_train,discrete_feature_val,cont_col,\n",
    "                                      categorical, 0.97, None, corrtype='mutual_info',\n",
    "                                      discrete_method='mdlp')\n",
    "c_como_demo.run()\n",
    "c_como_predict = c_como_demo.predict(x_test)\n",
    "print(classification_report(y_test,c_como_predict))"
   ]
  },
  {
   "cell_type": "code",
   "execution_count": 9,
   "metadata": {},
   "outputs": [
    {
     "name": "stdout",
     "output_type": "stream",
     "text": [
      "[[0, 1, 6], [2], [3], [4], [5], [7], [8]]\n"
     ]
    }
   ],
   "source": [
    "c_como_demo.print_cluster()"
   ]
  },
  {
   "cell_type": "code",
   "execution_count": 17,
   "metadata": {},
   "outputs": [
    {
     "data": {
      "text/plain": [
       "array([[1.        , 0.97185398, 0.87450609, 0.96490435, 0.9708512 ,\n",
       "        0.81077654, 0.97476359, 0.36336161, 0.40931073],\n",
       "       [0.97185398, 1.        , 0.86263287, 0.95304739, 0.95846074,\n",
       "        0.79891348, 0.96245958, 0.35939157, 0.38991907],\n",
       "       [0.87450609, 0.86263287, 1.        , 0.85361915, 0.8602662 ,\n",
       "        0.73752905, 0.86322381, 0.23169984, 0.35775833],\n",
       "       [0.96490435, 0.95304739, 0.85361915, 1.        , 0.95201945,\n",
       "        0.79046621, 0.95606623, 0.36320023, 0.39169832],\n",
       "       [0.9708512 , 0.95846074, 0.8602662 , 0.95201945, 1.        ,\n",
       "        0.79638693, 0.96212448, 0.3475146 , 0.39083911],\n",
       "       [0.81077654, 0.79891348, 0.73752905, 0.79046621, 0.79638693,\n",
       "        1.        , 0.80004744, 0.29579308, 0.40330476],\n",
       "       [0.97476359, 0.96245958, 0.86322381, 0.95606623, 0.96212448,\n",
       "        0.80004744, 1.        , 0.35137679, 0.39903298],\n",
       "       [0.36336161, 0.35939157, 0.23169984, 0.36320023, 0.3475146 ,\n",
       "        0.29579308, 0.35137679, 1.        , 0.35723397],\n",
       "       [0.40931073, 0.38991907, 0.35775833, 0.39169832, 0.39083911,\n",
       "        0.40330476, 0.39903298, 0.35723397, 1.        ]])"
      ]
     },
     "execution_count": 17,
     "metadata": {},
     "output_type": "execute_result"
    }
   ],
   "source": [
    "cm.get_norm_mutual_info(x_train)"
   ]
  },
  {
   "cell_type": "code",
   "execution_count": 18,
   "metadata": {},
   "outputs": [
    {
     "name": "stdout",
     "output_type": "stream",
     "text": [
      "              precision    recall  f1-score   support\n",
      "\n",
      "           1       0.88      0.54      0.67        13\n",
      "           2       0.85      0.89      0.87        19\n",
      "           3       0.88      1.00      0.94        15\n",
      "           5       0.94      1.00      0.97        16\n",
      "           6       1.00      1.00      1.00        15\n",
      "           7       0.92      1.00      0.96        12\n",
      "\n",
      "    accuracy                           0.91        90\n",
      "   macro avg       0.91      0.91      0.90        90\n",
      "weighted avg       0.91      0.91      0.90        90\n",
      "\n"
     ]
    }
   ],
   "source": [
    "xgb_clf = xgb.XGBClassifier()\n",
    "xgb_clf.fit(x_train,y_train)\n",
    "xgb_predict = xgb_clf.predict(x_test)\n",
    "print(classification_report(y_test, xgb_predict))"
   ]
  },
  {
   "cell_type": "code",
   "execution_count": 36,
   "metadata": {},
   "outputs": [
    {
     "name": "stderr",
     "output_type": "stream",
     "text": [
      "/home/r7user5/anaconda3/lib/python3.7/site-packages/sklearn/ensemble/forest.py:245: FutureWarning: The default value of n_estimators will change from 10 in version 0.20 to 100 in 0.22.\n",
      "  \"10 in version 0.20 to 100 in 0.22.\", FutureWarning)\n"
     ]
    },
    {
     "name": "stdout",
     "output_type": "stream",
     "text": [
      "              precision    recall  f1-score   support\n",
      "\n",
      "           1       0.75      0.64      0.69        14\n",
      "           2       0.71      0.77      0.74        13\n",
      "           3       0.82      0.88      0.85        16\n",
      "           5       1.00      1.00      1.00        18\n",
      "           6       0.91      1.00      0.95        10\n",
      "           7       1.00      0.95      0.97        19\n",
      "\n",
      "    accuracy                           0.88        90\n",
      "   macro avg       0.87      0.87      0.87        90\n",
      "weighted avg       0.88      0.88      0.88        90\n",
      "\n"
     ]
    }
   ],
   "source": [
    "rf_clf = RandomForestClassifier()\n",
    "rf_clf.fit(x_train,y_train)\n",
    "rf_predict = rf_clf.predict(x_test)\n",
    "print(classification_report(y_test, rf_predict))"
   ]
  },
  {
   "cell_type": "code",
   "execution_count": 20,
   "metadata": {},
   "outputs": [
    {
     "name": "stdout",
     "output_type": "stream",
     "text": [
      "              precision    recall  f1-score   support\n",
      "\n",
      "           1       0.00      0.00      0.00        13\n",
      "           2       0.06      0.05      0.06        19\n",
      "           3       0.34      1.00      0.51        15\n",
      "           5       0.00      0.00      0.00        16\n",
      "           6       1.00      1.00      1.00        15\n",
      "           7       0.92      1.00      0.96        12\n",
      "\n",
      "    accuracy                           0.48        90\n",
      "   macro avg       0.39      0.51      0.42        90\n",
      "weighted avg       0.36      0.48      0.39        90\n",
      "\n"
     ]
    },
    {
     "name": "stderr",
     "output_type": "stream",
     "text": [
      "/home/r7user5/anaconda3/lib/python3.7/site-packages/sklearn/metrics/classification.py:1437: UndefinedMetricWarning: Precision and F-score are ill-defined and being set to 0.0 in labels with no predicted samples.\n",
      "  'precision', 'predicted', average, warn_for)\n",
      "/home/r7user5/anaconda3/lib/python3.7/site-packages/sklearn/metrics/classification.py:1437: UndefinedMetricWarning: Precision and F-score are ill-defined and being set to 0.0 in labels with no predicted samples.\n",
      "  'precision', 'predicted', average, warn_for)\n",
      "/home/r7user5/anaconda3/lib/python3.7/site-packages/sklearn/metrics/classification.py:1437: UndefinedMetricWarning: Precision and F-score are ill-defined and being set to 0.0 in labels with no predicted samples.\n",
      "  'precision', 'predicted', average, warn_for)\n"
     ]
    }
   ],
   "source": [
    "ada_clf = AdaBoostClassifier()\n",
    "ada_clf.fit(x_train,y_train)\n",
    "ada_predict = ada_clf.predict(x_test)\n",
    "print(classification_report(y_test, ada_predict))"
   ]
  },
  {
   "cell_type": "code",
   "execution_count": 21,
   "metadata": {},
   "outputs": [
    {
     "name": "stdout",
     "output_type": "stream",
     "text": [
      "              precision    recall  f1-score   support\n",
      "\n",
      "           1       0.91      0.77      0.83        13\n",
      "           2       0.86      0.95      0.90        19\n",
      "           3       0.93      0.93      0.93        15\n",
      "           5       1.00      1.00      1.00        16\n",
      "           6       1.00      1.00      1.00        15\n",
      "           7       1.00      1.00      1.00        12\n",
      "\n",
      "    accuracy                           0.94        90\n",
      "   macro avg       0.95      0.94      0.94        90\n",
      "weighted avg       0.95      0.94      0.94        90\n",
      "\n"
     ]
    }
   ],
   "source": [
    "lgb_clf = lgb.LGBMClassifier()\n",
    "lgb_clf.fit(x_train, y_train)\n",
    "lgb_predict = lgb_clf.predict(x_test)\n",
    "lgb_predict = lgb_predict.round(0).astype('int')\n",
    "print(classification_report(y_test, lgb_predict))"
   ]
  },
  {
   "cell_type": "code",
   "execution_count": 22,
   "metadata": {},
   "outputs": [
    {
     "name": "stdout",
     "output_type": "stream",
     "text": [
      "              precision    recall  f1-score   support\n",
      "\n",
      "           1       0.53      0.62      0.57        13\n",
      "           2       0.86      0.63      0.73        19\n",
      "           3       0.87      0.87      0.87        15\n",
      "           5       0.94      1.00      0.97        16\n",
      "           6       1.00      1.00      1.00        15\n",
      "           7       0.86      1.00      0.92        12\n",
      "\n",
      "    accuracy                           0.84        90\n",
      "   macro avg       0.84      0.85      0.84        90\n",
      "weighted avg       0.85      0.84      0.84        90\n",
      "\n"
     ]
    }
   ],
   "source": [
    "DT_clf = tree.DecisionTreeClassifier()\n",
    "DT_clf.fit(x_train,y_train)\n",
    "DT_predict = DT_clf.predict(x_test)\n",
    "print(classification_report(y_test, DT_predict))"
   ]
  },
  {
   "cell_type": "code",
   "execution_count": 23,
   "metadata": {},
   "outputs": [
    {
     "name": "stdout",
     "output_type": "stream",
     "text": [
      "              precision    recall  f1-score   support\n",
      "\n",
      "           1       0.27      1.00      0.43        13\n",
      "           2       0.00      0.00      0.00        19\n",
      "           3       0.00      0.00      0.00        15\n",
      "           5       0.80      1.00      0.89        16\n",
      "           6       0.92      0.80      0.86        15\n",
      "           7       1.00      0.75      0.86        12\n",
      "\n",
      "    accuracy                           0.56        90\n",
      "   macro avg       0.50      0.59      0.50        90\n",
      "weighted avg       0.47      0.56      0.48        90\n",
      "\n"
     ]
    },
    {
     "name": "stderr",
     "output_type": "stream",
     "text": [
      "/home/r7user5/anaconda3/lib/python3.7/site-packages/sklearn/svm/base.py:193: FutureWarning: The default value of gamma will change from 'auto' to 'scale' in version 0.22 to account better for unscaled features. Set gamma explicitly to 'auto' or 'scale' to avoid this warning.\n",
      "  \"avoid this warning.\", FutureWarning)\n",
      "/home/r7user5/anaconda3/lib/python3.7/site-packages/sklearn/metrics/classification.py:1437: UndefinedMetricWarning: Precision and F-score are ill-defined and being set to 0.0 in labels with no predicted samples.\n",
      "  'precision', 'predicted', average, warn_for)\n",
      "/home/r7user5/anaconda3/lib/python3.7/site-packages/sklearn/metrics/classification.py:1437: UndefinedMetricWarning: Precision and F-score are ill-defined and being set to 0.0 in labels with no predicted samples.\n",
      "  'precision', 'predicted', average, warn_for)\n",
      "/home/r7user5/anaconda3/lib/python3.7/site-packages/sklearn/metrics/classification.py:1437: UndefinedMetricWarning: Precision and F-score are ill-defined and being set to 0.0 in labels with no predicted samples.\n",
      "  'precision', 'predicted', average, warn_for)\n"
     ]
    }
   ],
   "source": [
    "svm = SVC()\n",
    "svm.fit(x_train, y_train)\n",
    "svm_predict = svm.predict(x_test)\n",
    "print(classification_report(y_test, svm_predict))"
   ]
  },
  {
   "cell_type": "code",
   "execution_count": 24,
   "metadata": {},
   "outputs": [
    {
     "name": "stderr",
     "output_type": "stream",
     "text": [
      "/home/r7user5/anaconda3/lib/python3.7/site-packages/sklearn/linear_model/logistic.py:432: FutureWarning: Default solver will be changed to 'lbfgs' in 0.22. Specify a solver to silence this warning.\n",
      "  FutureWarning)\n",
      "/home/r7user5/anaconda3/lib/python3.7/site-packages/sklearn/linear_model/logistic.py:469: FutureWarning: Default multi_class will be changed to 'auto' in 0.22. Specify the multi_class option to silence this warning.\n",
      "  \"this warning.\", FutureWarning)\n"
     ]
    },
    {
     "name": "stdout",
     "output_type": "stream",
     "text": [
      "              precision    recall  f1-score   support\n",
      "\n",
      "           1       0.30      0.46      0.36        13\n",
      "           2       0.50      0.21      0.30        19\n",
      "           3       0.56      0.67      0.61        15\n",
      "           5       0.89      1.00      0.94        16\n",
      "           6       1.00      0.93      0.97        15\n",
      "           7       1.00      1.00      1.00        12\n",
      "\n",
      "    accuracy                           0.69        90\n",
      "   macro avg       0.71      0.71      0.70        90\n",
      "weighted avg       0.70      0.69      0.68        90\n",
      "\n"
     ]
    }
   ],
   "source": [
    "lr = LogisticRegression()\n",
    "lr.fit(x_train, y_train)\n",
    "lr_predict = lr.predict(x_test)\n",
    "print(classification_report(y_test, lr_predict))"
   ]
  },
  {
   "cell_type": "code",
   "execution_count": 24,
   "metadata": {},
   "outputs": [
    {
     "name": "stdout",
     "output_type": "stream",
     "text": [
      "              precision    recall  f1-score   support\n",
      "\n",
      "           1       0.64      0.64      0.64        14\n",
      "           2       0.77      0.77      0.77        13\n",
      "           3       0.69      0.69      0.69        16\n",
      "           5       0.90      1.00      0.95        18\n",
      "           6       1.00      1.00      1.00        10\n",
      "           7       1.00      0.89      0.94        19\n",
      "\n",
      "    accuracy                           0.83        90\n",
      "   macro avg       0.83      0.83      0.83        90\n",
      "weighted avg       0.84      0.83      0.83        90\n",
      "\n"
     ]
    }
   ],
   "source": [
    "ciber_nb = cm.clustered_comonotonic(x_train,y_train,discrete_feature_val,cont_col,\n",
    "                                categorical, 1, None, corrtype='spearman',\n",
    "                                discrete_method='mdlp')\n",
    "ciber_nb.run()\n",
    "ciber_nb_predict = ciber_nb.predict(x_test)\n",
    "print(classification_report(y_test,ciber_nb_predict))"
   ]
  },
  {
   "cell_type": "code",
   "execution_count": null,
   "metadata": {},
   "outputs": [],
   "source": []
  }
 ],
 "metadata": {
  "kernelspec": {
   "display_name": "Python 3",
   "language": "python",
   "name": "python3"
  },
  "language_info": {
   "codemirror_mode": {
    "name": "ipython",
    "version": 3
   },
   "file_extension": ".py",
   "mimetype": "text/x-python",
   "name": "python",
   "nbconvert_exporter": "python",
   "pygments_lexer": "ipython3",
   "version": "3.8.5"
  }
 },
 "nbformat": 4,
 "nbformat_minor": 2
}
