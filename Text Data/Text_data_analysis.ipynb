{
 "cells": [
  {
   "cell_type": "code",
   "execution_count": 1,
   "metadata": {},
   "outputs": [],
   "source": [
    "import numpy as np\n",
    "import pandas as pd\n",
    "import sys\n",
    "sys.path.insert(1, '/Users/chengpeng/Desktop/Research/STAT/CIBer')\n",
    "import comonotonic as cm\n",
    "import os\n",
    "from sklearn.model_selection import train_test_split\n",
    "from sklearn import preprocessing\n",
    "from sklearn.metrics import accuracy_score\n",
    "import copy\n",
    "import tool_box as tb\n",
    "import matplotlib.pyplot as plt\n",
    "import seaborn as sns\n",
    "from sklearn.metrics import classification_report, roc_auc_score\n",
    "from imblearn.over_sampling import SMOTE\n",
    "from sklearn.naive_bayes import GaussianNB, MultinomialNB\n",
    "from imblearn.over_sampling import SMOTENC\n",
    "from sklearn.utils import shuffle"
   ]
  },
  {
   "cell_type": "code",
   "execution_count": 2,
   "metadata": {},
   "outputs": [],
   "source": [
    "df_good = pd.read_csv('good.csv')\n",
    "df_good = df_good.drop(df_good.columns[0], axis=1)\n",
    "df_good['label'] = 1\n",
    "df_bad = pd.read_csv('bad.csv')\n",
    "df_bad = df_bad.drop(df_bad.columns[0], axis=1)\n",
    "df_bad['label'] = 0"
   ]
  },
  {
   "cell_type": "code",
   "execution_count": 4,
   "metadata": {},
   "outputs": [],
   "source": [
    "df = pd.concat([df_good, df_bad])\n",
    "df = shuffle(df)\n",
    "df = df.dropna()\n",
    "df = df.loc[:, (df != df.iloc[0]).any()]"
   ]
  },
  {
   "cell_type": "code",
   "execution_count": 5,
   "metadata": {},
   "outputs": [],
   "source": [
    "X = df.iloc[:,:-1].to_numpy()\n",
    "Y = df.iloc[:,-1].to_numpy()\n",
    "x_train, x_test, y_train, y_test = train_test_split(X,Y,test_size=0.3)"
   ]
  },
  {
   "cell_type": "code",
   "execution_count": 6,
   "metadata": {},
   "outputs": [
    {
     "name": "stdout",
     "output_type": "stream",
     "text": [
      "              precision    recall  f1-score   support\n",
      "\n",
      "           0       0.84      0.85      0.84       669\n",
      "           1       0.68      0.66      0.67       325\n",
      "\n",
      "    accuracy                           0.79       994\n",
      "   macro avg       0.76      0.75      0.76       994\n",
      "weighted avg       0.79      0.79      0.79       994\n",
      "\n"
     ]
    }
   ],
   "source": [
    "nb_model = MultinomialNB()\n",
    "nb_model.fit(x_train, y_train)\n",
    "y_nb_pred = nb_model.predict(x_test)\n",
    "print(classification_report(y_test, y_nb_pred))"
   ]
  },
  {
   "cell_type": "code",
   "execution_count": null,
   "metadata": {},
   "outputs": [],
   "source": [
    "cont_col = [i for i in range(x_train.shape[1])]\n",
    "categorical = []\n",
    "discrete_feature_val = None\n",
    "allocation_book = {i:2 for i in cont_col}\n",
    "ciber = cm.clustered_comonotonic(x_train,y_train,discrete_feature_val,cont_col,categorical, \n",
    "                                 0.9, None, corrtype='js_divergence', discrete_method='custom', \n",
    "                                 allocation_book=allocation_book)\n",
    "ciber.run()\n",
    "ciber_predict = ciber.predict(x_test)\n",
    "print(classification_report(y_test,ciber_predict))"
   ]
  },
  {
   "cell_type": "code",
   "execution_count": null,
   "metadata": {},
   "outputs": [],
   "source": []
  }
 ],
 "metadata": {
  "kernelspec": {
   "display_name": "Python 3",
   "language": "python",
   "name": "python3"
  },
  "language_info": {
   "codemirror_mode": {
    "name": "ipython",
    "version": 3
   },
   "file_extension": ".py",
   "mimetype": "text/x-python",
   "name": "python",
   "nbconvert_exporter": "python",
   "pygments_lexer": "ipython3",
   "version": "3.8.5"
  }
 },
 "nbformat": 4,
 "nbformat_minor": 4
}
