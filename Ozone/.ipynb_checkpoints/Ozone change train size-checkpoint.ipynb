{
 "cells": [
  {
   "cell_type": "code",
   "execution_count": 1,
   "metadata": {},
   "outputs": [
    {
     "name": "stderr",
     "output_type": "stream",
     "text": [
      "/home/r7user5/anaconda3/lib/python3.7/site-packages/dask/dataframe/utils.py:13: FutureWarning: pandas.util.testing is deprecated. Use the functions in the public API at pandas.testing instead.\n",
      "  import pandas.util.testing as tm\n"
     ]
    }
   ],
   "source": [
    "import numpy as np\n",
    "import pandas as pd\n",
    "import sys\n",
    "sys.path.insert(1, '/home/r7user5/Desktop/STAT')\n",
    "import comonotonic as cm\n",
    "import ensemble_ciber as ec\n",
    "import math\n",
    "import os\n",
    "from sklearn.model_selection import train_test_split\n",
    "from sklearn import preprocessing\n",
    "from sklearn.model_selection import KFold\n",
    "from sklearn.metrics import accuracy_score\n",
    "import copy\n",
    "import utils\n",
    "import matplotlib.pyplot as plt\n",
    "import seaborn as sns\n",
    "from sklearn.metrics import classification_report\n",
    "from imblearn.over_sampling import SMOTE\n",
    "import ensemble_ciber as ec\n",
    "import conditional_ciber as cc\n",
    "from sklearn.ensemble import AdaBoostClassifier\n",
    "from sklearn.ensemble import RandomForestClassifier\n",
    "import xgboost as xgb\n",
    "import lightgbm as lgb\n",
    "from sklearn import tree\n",
    "from sklearn.svm import SVC\n",
    "from sklearn.linear_model import LogisticRegression\n",
    "from sklearn.naive_bayes import GaussianNB\n",
    "from imblearn.over_sampling import SMOTENC\n",
    "import xlsxwriter"
   ]
  },
  {
   "cell_type": "code",
   "execution_count": 2,
   "metadata": {},
   "outputs": [],
   "source": [
    "df = pd.read_csv('ozone.csv')\n",
    "df = df.drop(['Date'], axis = 1)\n",
    "df = df.replace('?',np.NaN)\n",
    "df.iloc[:,:-1] = df.iloc[:,:-1].astype(float)\n",
    "df = df.fillna(df.mean())"
   ]
  },
  {
   "cell_type": "code",
   "execution_count": 3,
   "metadata": {},
   "outputs": [],
   "source": [
    "colnames = [('X'+str(i)) for i in range(df.shape[1]-1)]\n",
    "colnames.append('Y')\n",
    "df.columns = colnames"
   ]
  },
  {
   "cell_type": "code",
   "execution_count": 4,
   "metadata": {},
   "outputs": [],
   "source": [
    "categorical = []\n",
    "cont_col = [i for i in range(df.shape[1]-1)]\n",
    "discrete_feature_val = None"
   ]
  },
  {
   "cell_type": "code",
   "execution_count": 5,
   "metadata": {},
   "outputs": [],
   "source": [
    "df_train, df_test = train_test_split(df, test_size=0.2, stratify=df[['Y']])"
   ]
  },
  {
   "cell_type": "code",
   "execution_count": 6,
   "metadata": {},
   "outputs": [
    {
     "name": "stderr",
     "output_type": "stream",
     "text": [
      "/home/r7user5/anaconda3/lib/python3.7/site-packages/ipykernel_launcher.py:3: SettingWithCopyWarning: \n",
      "A value is trying to be set on a copy of a slice from a DataFrame.\n",
      "Try using .loc[row_indexer,col_indexer] = value instead\n",
      "\n",
      "See the caveats in the documentation: https://pandas.pydata.org/pandas-docs/stable/user_guide/indexing.html#returning-a-view-versus-a-copy\n",
      "  This is separate from the ipykernel package so we can avoid doing imports until\n",
      "/home/r7user5/anaconda3/lib/python3.7/site-packages/pandas/core/indexing.py:1736: SettingWithCopyWarning: \n",
      "A value is trying to be set on a copy of a slice from a DataFrame.\n",
      "Try using .loc[row_indexer,col_indexer] = value instead\n",
      "\n",
      "See the caveats in the documentation: https://pandas.pydata.org/pandas-docs/stable/user_guide/indexing.html#returning-a-view-versus-a-copy\n",
      "  isetter(loc, value[:, i].tolist())\n"
     ]
    }
   ],
   "source": [
    "scaler = preprocessing.MinMaxScaler()\n",
    "scale_col_name = [\"X\"+str(i) for i in cont_col]\n",
    "df_train[scale_col_name] = scaler.fit_transform(df_train[scale_col_name])\n",
    "reduced_df_train = utils.outlier_removal(df_train, cont_col)"
   ]
  },
  {
   "cell_type": "code",
   "execution_count": 7,
   "metadata": {},
   "outputs": [
    {
     "name": "stderr",
     "output_type": "stream",
     "text": [
      "/home/r7user5/anaconda3/lib/python3.7/site-packages/ipykernel_launcher.py:1: SettingWithCopyWarning: \n",
      "A value is trying to be set on a copy of a slice from a DataFrame.\n",
      "Try using .loc[row_indexer,col_indexer] = value instead\n",
      "\n",
      "See the caveats in the documentation: https://pandas.pydata.org/pandas-docs/stable/user_guide/indexing.html#returning-a-view-versus-a-copy\n",
      "  \"\"\"Entry point for launching an IPython kernel.\n",
      "/home/r7user5/anaconda3/lib/python3.7/site-packages/pandas/core/indexing.py:1736: SettingWithCopyWarning: \n",
      "A value is trying to be set on a copy of a slice from a DataFrame.\n",
      "Try using .loc[row_indexer,col_indexer] = value instead\n",
      "\n",
      "See the caveats in the documentation: https://pandas.pydata.org/pandas-docs/stable/user_guide/indexing.html#returning-a-view-versus-a-copy\n",
      "  isetter(loc, value[:, i].tolist())\n"
     ]
    }
   ],
   "source": [
    "df_test[scale_col_name] = scaler.transform(df_test[scale_col_name])"
   ]
  },
  {
   "cell_type": "code",
   "execution_count": 8,
   "metadata": {},
   "outputs": [],
   "source": [
    "x_train = reduced_df_train.iloc[:,:-1].to_numpy()\n",
    "y_train = reduced_df_train.iloc[:,-1].to_numpy()\n",
    "smote = SMOTE(random_state=0)\n",
    "x_train_synthetic, y_train_synthetic = smote.fit_resample(x_train, y_train)"
   ]
  },
  {
   "cell_type": "code",
   "execution_count": 9,
   "metadata": {},
   "outputs": [],
   "source": [
    "x_test = df_test.iloc[:,:-1].to_numpy()\n",
    "y_test = df_test.iloc[:,-1].to_numpy()\n",
    "test_smote = SMOTE(random_state=0)\n",
    "x_test_synthetic, y_test_synthetic = test_smote.fit_resample(x_test, y_test)"
   ]
  },
  {
   "cell_type": "code",
   "execution_count": 7,
   "metadata": {},
   "outputs": [],
   "source": [
    "def change_train_size(X, Y, train_size, repeat = 5):\n",
    "    X_train_full,X_test,Y_train_full,Y_test = train_test_split(X,Y,test_size=0.2,\n",
    "                                                               random_state=10)\n",
    "    categorical = []\n",
    "    cont_col = [i for i in range(df.shape[1]-1)]\n",
    "    discrete_feature_val = None\n",
    "    acc_record = dict()\n",
    "    for i in range(repeat):\n",
    "        train_idx = np.random.randint(X_train_full.shape[0], \n",
    "                                      size=int((train_size/0.8)*X_train_full.shape[0]))\n",
    "        X_train, Y_train = X_train_full[train_idx,:], Y_train_full[train_idx]\n",
    "        xgb_clf = xgb.XGBClassifier()\n",
    "        xgb_clf.fit(X_train,Y_train)\n",
    "        predict = xgb_clf.predict(X_test)\n",
    "        acc_record[i] = accuracy_score(Y_test, predict)\n",
    "        del train_idx, X_train, Y_train, xgb_clf, predict\n",
    "    return acc_record"
   ]
  },
  {
   "cell_type": "code",
   "execution_count": 8,
   "metadata": {},
   "outputs": [],
   "source": [
    "trainset_size = [0.1, 0.2, 0.3, 0.4, 0.5, 0.6, 0.7, 0.8]\n",
    "acc_book = dict()\n",
    "for train_size in trainset_size:\n",
    "    acc = change_train_size(x_resample, y_resample, train_size)\n",
    "    acc_book[train_size] = acc"
   ]
  },
  {
   "cell_type": "code",
   "execution_count": 9,
   "metadata": {},
   "outputs": [],
   "source": [
    "workbook = xlsxwriter.Workbook('change_train_size_acc.xlsx') \n",
    "worksheet = workbook.add_worksheet()\n",
    "row = 0\n",
    "for train_size in acc_book.keys():\n",
    "    column = 1\n",
    "    worksheet.write(row, 0, train_size)\n",
    "    for acc in acc_book[train_size].values():\n",
    "        worksheet.write(row, column, acc)\n",
    "        column += 1\n",
    "    row += 1\n",
    "workbook.close()"
   ]
  },
  {
   "cell_type": "code",
   "execution_count": 9,
   "metadata": {},
   "outputs": [
    {
     "name": "stdout",
     "output_type": "stream",
     "text": [
      "              precision    recall  f1-score   support\n",
      "\n",
      "           0       0.90      1.00      0.95       460\n",
      "           1       1.00      0.90      0.95       490\n",
      "\n",
      "    accuracy                           0.95       950\n",
      "   macro avg       0.95      0.95      0.95       950\n",
      "weighted avg       0.95      0.95      0.95       950\n",
      "\n"
     ]
    }
   ],
   "source": [
    "cf = ec.ciber_forest(n_estimators = 100, max_workers = 30, sample_percentage = sample_percentage)\n",
    "cf.fit(x_train,y_train,discrete_feature_val,cont_col,categorical, \n",
    "       0.90,None,corrtype='spearman',discrete_method='mdlp')\n",
    "cf_predict = cf.predict(x_test)\n",
    "print(classification_report(y_test, cf_predict))"
   ]
  },
  {
   "cell_type": "code",
   "execution_count": 10,
   "metadata": {},
   "outputs": [
    {
     "name": "stdout",
     "output_type": "stream",
     "text": [
      "              precision    recall  f1-score   support\n",
      "\n",
      "           0       0.94      1.00      0.97       475\n",
      "           1       1.00      0.93      0.96       475\n",
      "\n",
      "    accuracy                           0.97       950\n",
      "   macro avg       0.97      0.97      0.97       950\n",
      "weighted avg       0.97      0.97      0.97       950\n",
      "\n"
     ]
    }
   ],
   "source": [
    "c_como_demo = cm.clustered_comonotonic(x_train_synthetic,y_train_synthetic,\n",
    "                                       discrete_feature_val,cont_col,categorical, \n",
    "                                       0.95, None, corrtype='spearman',\n",
    "                                       discrete_method='mdlp')\n",
    "c_como_demo.run()\n",
    "c_como_predict = c_como_demo.predict(x_test_synthetic)\n",
    "print(classification_report(y_test_synthetic,c_como_predict))"
   ]
  },
  {
   "cell_type": "code",
   "execution_count": 13,
   "metadata": {},
   "outputs": [
    {
     "name": "stdout",
     "output_type": "stream",
     "text": [
      "[[0], [1], [2], [3], [4], [5], [6], [7], [8], [9], [10], [11], [12], [13], [14], [15], [16], [17], [18], [19], [20], [21], [22], [23], [24], [25], [26, 27, 28, 29, 30, 31, 32, 33, 34], [35, 36, 37, 38, 39, 40, 41, 42, 43, 44, 45, 50], [46, 47, 48, 49, 51], [52], [53], [54], [55], [56], [57], [58], [59], [60], [61], [62], [63], [64], [65], [66], [67], [68], [69], [70], [71]]\n"
     ]
    }
   ],
   "source": [
    "c_como_demo.print_cluster()"
   ]
  },
  {
   "cell_type": "code",
   "execution_count": 20,
   "metadata": {},
   "outputs": [
    {
     "name": "stdout",
     "output_type": "stream",
     "text": [
      "              precision    recall  f1-score   support\n",
      "\n",
      "           0       0.94      1.00      0.97       475\n",
      "           1       1.00      0.94      0.97       475\n",
      "\n",
      "    accuracy                           0.97       950\n",
      "   macro avg       0.97      0.97      0.97       950\n",
      "weighted avg       0.97      0.97      0.97       950\n",
      "\n"
     ]
    }
   ],
   "source": [
    "ciber_nb = cm.clustered_comonotonic(x_train_synthetic,y_train_synthetic,\n",
    "                                    discrete_feature_val,cont_col,\n",
    "                                    categorical, 1, None, corrtype='spearman',\n",
    "                                    discrete_method='mdlp')\n",
    "ciber_nb.run()\n",
    "ciber_nb_predict = ciber_nb.predict(x_test_synthetic)\n",
    "print(classification_report(y_test_synthetic,ciber_nb_predict))"
   ]
  },
  {
   "cell_type": "code",
   "execution_count": 21,
   "metadata": {},
   "outputs": [
    {
     "name": "stdout",
     "output_type": "stream",
     "text": [
      "              precision    recall  f1-score   support\n",
      "\n",
      "           0       0.84      0.97      0.90       475\n",
      "           1       0.97      0.81      0.88       475\n",
      "\n",
      "    accuracy                           0.89       950\n",
      "   macro avg       0.90      0.89      0.89       950\n",
      "weighted avg       0.90      0.89      0.89       950\n",
      "\n"
     ]
    }
   ],
   "source": [
    "xgb_clf = xgb.XGBClassifier()\n",
    "xgb_clf.fit(x_train_synthetic,y_train_synthetic)\n",
    "xgb_predict = xgb_clf.predict(x_test_synthetic)\n",
    "print(classification_report(y_test_synthetic, xgb_predict))"
   ]
  },
  {
   "cell_type": "code",
   "execution_count": 16,
   "metadata": {},
   "outputs": [
    {
     "name": "stderr",
     "output_type": "stream",
     "text": [
      "/home/r7user5/anaconda3/lib/python3.7/site-packages/sklearn/ensemble/forest.py:245: FutureWarning: The default value of n_estimators will change from 10 in version 0.20 to 100 in 0.22.\n",
      "  \"10 in version 0.20 to 100 in 0.22.\", FutureWarning)\n"
     ]
    },
    {
     "name": "stdout",
     "output_type": "stream",
     "text": [
      "              precision    recall  f1-score   support\n",
      "\n",
      "           0       0.74      0.98      0.84       475\n",
      "           1       0.97      0.65      0.78       475\n",
      "\n",
      "    accuracy                           0.82       950\n",
      "   macro avg       0.85      0.82      0.81       950\n",
      "weighted avg       0.85      0.82      0.81       950\n",
      "\n"
     ]
    }
   ],
   "source": [
    "rf_clf = RandomForestClassifier()\n",
    "rf_clf.fit(x_train_synthetic,y_train_synthetic)\n",
    "rf_predict = rf_clf.predict(x_test_synthetic)\n",
    "print(classification_report(y_test_synthetic, rf_predict))"
   ]
  },
  {
   "cell_type": "code",
   "execution_count": 31,
   "metadata": {},
   "outputs": [
    {
     "name": "stdout",
     "output_type": "stream",
     "text": [
      "              precision    recall  f1-score   support\n",
      "\n",
      "           0       0.95      0.91      0.93       460\n",
      "           1       0.92      0.95      0.93       490\n",
      "\n",
      "    accuracy                           0.93       950\n",
      "   macro avg       0.93      0.93      0.93       950\n",
      "weighted avg       0.93      0.93      0.93       950\n",
      "\n"
     ]
    }
   ],
   "source": [
    "ada_clf = AdaBoostClassifier()\n",
    "ada_clf.fit(x_train,y_train)\n",
    "ada_predict = ada_clf.predict(x_test)\n",
    "print(classification_report(y_test, ada_predict))"
   ]
  },
  {
   "cell_type": "code",
   "execution_count": 32,
   "metadata": {},
   "outputs": [
    {
     "name": "stdout",
     "output_type": "stream",
     "text": [
      "              precision    recall  f1-score   support\n",
      "\n",
      "           0       1.00      0.97      0.98       460\n",
      "           1       0.97      1.00      0.99       490\n",
      "\n",
      "    accuracy                           0.99       950\n",
      "   macro avg       0.99      0.98      0.99       950\n",
      "weighted avg       0.99      0.99      0.99       950\n",
      "\n"
     ]
    }
   ],
   "source": [
    "lgb_clf = lgb.LGBMClassifier()\n",
    "lgb_clf.fit(x_train, y_train)\n",
    "lgb_predict = lgb_clf.predict(x_test)\n",
    "lgb_predict = lgb_predict.round(0).astype('int')\n",
    "print(classification_report(y_test, lgb_predict))"
   ]
  },
  {
   "cell_type": "code",
   "execution_count": 17,
   "metadata": {},
   "outputs": [
    {
     "name": "stdout",
     "output_type": "stream",
     "text": [
      "              precision    recall  f1-score   support\n",
      "\n",
      "           0       0.71      0.93      0.81       475\n",
      "           1       0.89      0.63      0.74       475\n",
      "\n",
      "    accuracy                           0.78       950\n",
      "   macro avg       0.80      0.78      0.77       950\n",
      "weighted avg       0.80      0.78      0.77       950\n",
      "\n"
     ]
    }
   ],
   "source": [
    "DT_clf = tree.DecisionTreeClassifier()\n",
    "DT_clf.fit(x_train_synthetic,y_train_synthetic)\n",
    "DT_predict = DT_clf.predict(x_test_synthetic)\n",
    "print(classification_report(y_test_synthetic, DT_predict))"
   ]
  },
  {
   "cell_type": "code",
   "execution_count": 18,
   "metadata": {},
   "outputs": [
    {
     "name": "stderr",
     "output_type": "stream",
     "text": [
      "/home/r7user5/anaconda3/lib/python3.7/site-packages/sklearn/svm/base.py:193: FutureWarning: The default value of gamma will change from 'auto' to 'scale' in version 0.22 to account better for unscaled features. Set gamma explicitly to 'auto' or 'scale' to avoid this warning.\n",
      "  \"avoid this warning.\", FutureWarning)\n"
     ]
    },
    {
     "name": "stdout",
     "output_type": "stream",
     "text": [
      "              precision    recall  f1-score   support\n",
      "\n",
      "           0       0.98      0.79      0.88       475\n",
      "           1       0.83      0.99      0.90       475\n",
      "\n",
      "    accuracy                           0.89       950\n",
      "   macro avg       0.90      0.89      0.89       950\n",
      "weighted avg       0.90      0.89      0.89       950\n",
      "\n"
     ]
    }
   ],
   "source": [
    "svm = SVC()\n",
    "svm.fit(x_train_synthetic, y_train_synthetic)\n",
    "svm_predict = svm.predict(x_test_synthetic)\n",
    "print(classification_report(y_test_synthetic, svm_predict))"
   ]
  },
  {
   "cell_type": "code",
   "execution_count": 19,
   "metadata": {},
   "outputs": [
    {
     "name": "stdout",
     "output_type": "stream",
     "text": [
      "              precision    recall  f1-score   support\n",
      "\n",
      "           0       0.96      0.85      0.90       475\n",
      "           1       0.86      0.97      0.91       475\n",
      "\n",
      "    accuracy                           0.91       950\n",
      "   macro avg       0.91      0.91      0.91       950\n",
      "weighted avg       0.91      0.91      0.91       950\n",
      "\n"
     ]
    },
    {
     "name": "stderr",
     "output_type": "stream",
     "text": [
      "/home/r7user5/anaconda3/lib/python3.7/site-packages/sklearn/linear_model/logistic.py:432: FutureWarning: Default solver will be changed to 'lbfgs' in 0.22. Specify a solver to silence this warning.\n",
      "  FutureWarning)\n"
     ]
    }
   ],
   "source": [
    "lr = LogisticRegression()\n",
    "lr.fit(x_train_synthetic, y_train_synthetic)\n",
    "lr_predict = lr.predict(x_test_synthetic)\n",
    "print(classification_report(y_test_synthetic, lr_predict))"
   ]
  },
  {
   "cell_type": "code",
   "execution_count": 36,
   "metadata": {},
   "outputs": [
    {
     "name": "stdout",
     "output_type": "stream",
     "text": [
      "              precision    recall  f1-score   support\n",
      "\n",
      "           0       0.84      0.68      0.75       460\n",
      "           1       0.74      0.88      0.81       490\n",
      "\n",
      "    accuracy                           0.78       950\n",
      "   macro avg       0.79      0.78      0.78       950\n",
      "weighted avg       0.79      0.78      0.78       950\n",
      "\n"
     ]
    }
   ],
   "source": [
    "gaussian_nb = GaussianNB()\n",
    "gaussian_nb.fit(x_train, y_train)\n",
    "gaussian_nb_predict = gaussian_nb.predict(x_test)\n",
    "print(classification_report(y_test, gaussian_nb_predict))"
   ]
  }
 ],
 "metadata": {
  "kernelspec": {
   "display_name": "Python 3",
   "language": "python",
   "name": "python3"
  },
  "language_info": {
   "codemirror_mode": {
    "name": "ipython",
    "version": 3
   },
   "file_extension": ".py",
   "mimetype": "text/x-python",
   "name": "python",
   "nbconvert_exporter": "python",
   "pygments_lexer": "ipython3",
   "version": "3.7.4"
  }
 },
 "nbformat": 4,
 "nbformat_minor": 2
}
