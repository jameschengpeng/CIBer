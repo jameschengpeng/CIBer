{
 "cells": [
  {
   "cell_type": "markdown",
   "metadata": {},
   "source": [
    "We assume there are only two predictors $X_0$ and $X_1$. Points in class $0$ fall on the line segment $X_1 = X_0 + 20$ with $X_0 \\in [0,100]$. Points in class $1$ fall on the line segment $X_1 = X_0 - 20$ with $X_0 \\in [20,120]$. Please note that in both cases $X_0$ are uniformly distributed. We assume $X_0$ and $X_1$ are comonotonic. In this notebook, we compare CIBer with Naive Bayes.\n",
    "Let's first think of an example. If we would like to classify point $(55,35)$. We know that it should be class $1$ since it falls on the line segment $X_1 = X_0 - 20$. Furtherly, suppose we discretize $X_0$ into equal bins with length $10$. Then each conditional marginal probability equals to $0.1$.\n",
    "\n",
    "$\\textbf{Naive Bayes}$\n",
    "\n",
    "$\\mathbb{P}(X_0,X_1|Y=0)\\cdot \\mathbb{P}(Y=0)=0.1\\cdot0.1\\cdot0.5=0.0005$\n",
    "\n",
    "$\\mathbb{P}(X_0,X_1|Y=1)\\cdot \\mathbb{P}(Y=1)=0.1\\cdot0.1\\cdot0.5=0.0005$\n",
    "\n",
    "$\\textbf{CIBer}$\n",
    "\n",
    "$\\mathbb{P}(X_0,X_1|Y=0)\\cdot \\mathbb{P}(Y=0)= Leb([0.5,0.6]\\cap[0.1,0.2])\\cdot0.5=0$\n",
    "\n",
    "$\\mathbb{P}(X_0,X_1|Y=1)\\cdot \\mathbb{P}(Y=1)= Leb([0.3,0.4]\\cap[0.3,0.4])\\cdot0.5=0.05$\n",
    "\n",
    "So we can see that Naive Bayes can not make a decision but CIBer will definitely predict it as class $1$."
   ]
  },
  {
   "cell_type": "code",
   "execution_count": 1,
   "metadata": {},
   "outputs": [],
   "source": [
    "import numpy as np\n",
    "import pandas as pd\n",
    "import sys\n",
    "sys.path.insert(1, '/Users/chengpeng/Desktop/Research/STAT/CIBer')\n",
    "import comonotonic as cm\n",
    "import random\n",
    "import matplotlib.pyplot as plt\n",
    "from sklearn.model_selection import train_test_split\n",
    "import tool_box as tb\n",
    "from sklearn import preprocessing\n",
    "from sklearn.metrics import classification_report\n",
    "from sklearn.metrics import accuracy_score, roc_auc_score\n",
    "from multiprocessing import Pool"
   ]
  },
  {
   "cell_type": "code",
   "execution_count": 2,
   "metadata": {},
   "outputs": [],
   "source": [
    "def experiment(bin_num):\n",
    "    n_sample_each_class = 500000\n",
    "    class0_X0 = np.random.uniform(0,100,n_sample_each_class).reshape(-1,1)\n",
    "    class0_X1 = class0_X0 + 20\n",
    "    class1_X0 = np.random.uniform(20,120,n_sample_each_class).reshape(-1,1)\n",
    "    class1_X1 = class1_X0 - 20\n",
    "    class0 = np.array([0 for i in range(n_sample_each_class)]).reshape(-1,1)\n",
    "    class1 = np.array([1 for i in range(n_sample_each_class)]).reshape(-1,1)\n",
    "    class0 = np.concatenate((class0_X0, class0_X1, class0), axis = 1)\n",
    "    class1 = np.concatenate((class1_X0, class1_X1, class1), axis = 1)\n",
    "    data = np.concatenate((class0, class1), axis = 0)\n",
    "    X = data[:,:-1]\n",
    "    Y = data[:,-1]\n",
    "    cont_col = [i for i in range(X.shape[1])]\n",
    "    categorical = []\n",
    "    discrete_feature_val = None\n",
    "    allocation_book = {0: bin_num, 1: bin_num}\n",
    "    X_train,X_test,Y_train,Y_test = train_test_split(X,Y,test_size=0.2,shuffle = True)\n",
    "    ciber = cm.clustered_comonotonic(X_train,Y_train,discrete_feature_val,cont_col,categorical,\n",
    "                                     0,None,corrtype = 'pearson',discrete_method = \"custom\",\n",
    "                                     allocation_book = allocation_book)\n",
    "    ciber.run()\n",
    "    ciber_predict = ciber.predict(X_test)\n",
    "\n",
    "    ciber_nb = cm.clustered_comonotonic(X_train,Y_train,discrete_feature_val,cont_col,categorical,\n",
    "                                        1,None,corrtype = 'pearson',discrete_method = \"custom\",\n",
    "                                        allocation_book = allocation_book)\n",
    "    ciber_nb.run()\n",
    "    ciber_nb_predict = ciber_nb.predict(X_test)\n",
    "    \n",
    "    return accuracy_score(Y_test, ciber_predict), accuracy_score(Y_test, ciber_nb_predict)"
   ]
  },
  {
   "cell_type": "code",
   "execution_count": 3,
   "metadata": {},
   "outputs": [],
   "source": [
    "acc,auc = experiment(1000)"
   ]
  },
  {
   "cell_type": "code",
   "execution_count": 4,
   "metadata": {},
   "outputs": [
    {
     "data": {
      "text/plain": [
       "1.0"
      ]
     },
     "execution_count": 4,
     "metadata": {},
     "output_type": "execute_result"
    }
   ],
   "source": [
    "acc"
   ]
  },
  {
   "cell_type": "code",
   "execution_count": 5,
   "metadata": {},
   "outputs": [
    {
     "data": {
      "text/plain": [
       "0.706725"
      ]
     },
     "execution_count": 5,
     "metadata": {},
     "output_type": "execute_result"
    }
   ],
   "source": [
    "auc"
   ]
  },
  {
   "cell_type": "code",
   "execution_count": 3,
   "metadata": {},
   "outputs": [],
   "source": [
    "bin_num = 1000"
   ]
  },
  {
   "cell_type": "code",
   "execution_count": null,
   "metadata": {},
   "outputs": [],
   "source": [
    "ciber_result = []\n",
    "ciber_nb_result = []\n",
    "\n",
    "params = [(bin_num,) for i in range(1000)]\n",
    "pool = Pool()\n",
    "results = pool.starmap(experiment, params)\n",
    "\n",
    "for result in results:\n",
    "    ciber_result.append(result[0])\n",
    "    ciber_nb_result.append(result[1])\n",
    "data_to_plot = [ciber_result, ciber_nb_result]"
   ]
  },
  {
   "cell_type": "code",
   "execution_count": null,
   "metadata": {},
   "outputs": [],
   "source": [
    "fig = plt.figure()\n",
    "fig.suptitle('Performance comparison', fontsize=14, fontweight='bold')\n",
    "\n",
    "ax = fig.add_subplot(111)\n",
    "ax.boxplot(data_to_plot)\n",
    "\n",
    "ax.set_xlabel('Methods')\n",
    "ax.set_ylabel('Accuracy Score')\n",
    "ax.set_xticklabels(['CIBer','NB'])\n",
    "\n",
    "plt.show()"
   ]
  }
 ],
 "metadata": {
  "kernelspec": {
   "display_name": "Python 3",
   "language": "python",
   "name": "python3"
  },
  "language_info": {
   "codemirror_mode": {
    "name": "ipython",
    "version": 3
   },
   "file_extension": ".py",
   "mimetype": "text/x-python",
   "name": "python",
   "nbconvert_exporter": "python",
   "pygments_lexer": "ipython3",
   "version": "3.8.5"
  }
 },
 "nbformat": 4,
 "nbformat_minor": 2
}
