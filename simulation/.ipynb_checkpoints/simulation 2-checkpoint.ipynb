{
 "cells": [
  {
   "cell_type": "code",
   "execution_count": 1,
   "metadata": {},
   "outputs": [],
   "source": [
    "import numpy as np\n",
    "from scipy import stats\n",
    "from sklearn.metrics import mutual_info_score\n",
    "import math\n",
    "from pyitlib import discrete_random_variable as drv\n",
    "import matplotlib.pyplot as plt"
   ]
  },
  {
   "cell_type": "code",
   "execution_count": 2,
   "metadata": {},
   "outputs": [],
   "source": [
    "# pass in pearson corr_coef, P(Y=0|X1,X2) for 4 value combinations of X1 X2\n",
    "def generator(rho, p_00, p_01, p_10, p_11, amount):\n",
    "    # percent_abc means P(X1=a,X2=b,Y=c)\n",
    "    data = list()\n",
    "    percent_000 = p_00*(1+rho)/4\n",
    "    add_000 = [[0,0,0] for i in range(int(amount*percent_000))]\n",
    "    data += add_000\n",
    "    percent_001 = (1-p_00)*(1+rho)/4\n",
    "    add_001 = [[0,0,1] for i in range(int(amount*percent_001))]\n",
    "    data += add_001\n",
    "    percent_010 = p_01*(1-rho)/4\n",
    "    add_010 = [[0,1,0] for i in range(int(amount*percent_010))]\n",
    "    data += add_010\n",
    "    percent_011 = (1-p_01)*(1-rho)/4\n",
    "    add_011 = [[0,1,1] for i in range(int(amount*percent_011))]\n",
    "    data += add_011\n",
    "    percent_100 = p_10*(1-rho)/4\n",
    "    add_100 = [[1,0,0] for i in range(int(amount*percent_100))]\n",
    "    data += add_100\n",
    "    percent_101 = (1-p_10)*(1-rho)/4\n",
    "    add_101 = [[1,0,1] for i in range(int(amount*percent_101))]\n",
    "    data += add_101\n",
    "    percent_110 = p_11*(1+rho)/4\n",
    "    add_110 = [[1,1,0] for i in range(int(amount*percent_110))]\n",
    "    data += add_110\n",
    "    percent_111 = (1-p_11)*(1+rho)/4\n",
    "    add_111 = [[1,1,1] for i in range(int(amount*percent_111))]\n",
    "    data += add_111\n",
    "    return np.array(data)"
   ]
  },
  {
   "cell_type": "code",
   "execution_count": 3,
   "metadata": {},
   "outputs": [],
   "source": [
    "def compute_cmi(rho, p_00, p_01, p_10, p_11, amount):\n",
    "    data = generator(rho, p_00, p_01, p_10, p_11, amount)\n",
    "    X1 = list(data[:,0].flatten())\n",
    "    X2 = list(data[:,1].flatten())\n",
    "    Y = list(data[:,2].flatten())\n",
    "    return drv.information_mutual_conditional(X1,X2,Y)"
   ]
  },
  {
   "cell_type": "code",
   "execution_count": 7,
   "metadata": {},
   "outputs": [],
   "source": [
    "p_00 = 0.25\n",
    "p_01 = 0.75\n",
    "p_10 = 0.25\n",
    "p_11 = 0.25\n",
    "amount = 10000"
   ]
  },
  {
   "cell_type": "code",
   "execution_count": 8,
   "metadata": {},
   "outputs": [],
   "source": [
    "rho_list = list()\n",
    "cmi = list()\n",
    "for rho in np.linspace(0,1,num=100):\n",
    "    rho_list.append(rho)\n",
    "    cmi.append(compute_cmi(rho, p_00, p_01, p_10, p_11, amount))"
   ]
  },
  {
   "cell_type": "code",
   "execution_count": 9,
   "metadata": {},
   "outputs": [
    {
     "data": {
      "text/plain": [
       "[<matplotlib.lines.Line2D at 0x7f4694fc8710>]"
      ]
     },
     "execution_count": 9,
     "metadata": {},
     "output_type": "execute_result"
    },
    {
     "data": {
      "image/png": "[encoded data removed]",
      "text/plain": [
       "<Figure size 432x288 with 1 Axes>"
      ]
     },
     "metadata": {
      "needs_background": "light"
     },
     "output_type": "display_data"
    }
   ],
   "source": [
    "plt.plot(rho_list, cmi, 'o', color='black')"
   ]
  }
 ],
 "metadata": {
  "kernelspec": {
   "display_name": "Python 3",
   "language": "python",
   "name": "python3"
  },
  "language_info": {
   "codemirror_mode": {
    "name": "ipython",
    "version": 3
   },
   "file_extension": ".py",
   "mimetype": "text/x-python",
   "name": "python",
   "nbconvert_exporter": "python",
   "pygments_lexer": "ipython3",
   "version": "3.7.4"
  }
 },
 "nbformat": 4,
 "nbformat_minor": 2
}
