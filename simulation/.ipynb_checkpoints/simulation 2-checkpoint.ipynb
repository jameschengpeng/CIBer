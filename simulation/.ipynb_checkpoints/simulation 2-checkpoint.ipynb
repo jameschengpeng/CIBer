{
 "cells": [
  {
   "cell_type": "code",
   "execution_count": 1,
   "metadata": {},
   "outputs": [],
   "source": [
    "import numpy as np\n",
    "from scipy import stats\n",
    "from sklearn.metrics import mutual_info_score\n",
    "import math\n",
    "from pyitlib import discrete_random_variable as drv\n",
    "import sys\n",
    "sys.path.insert(1, '/Users/chengpeng/Desktop/Research/STAT/CIBer')\n",
    "import comonotonic as cm\n",
    "import random\n",
    "import tool_box as tb\n",
    "from sklearn import preprocessing\n",
    "from sklearn.metrics import classification_report\n",
    "from sklearn.metrics import accuracy_score\n",
    "from sklearn.model_selection import train_test_split\n",
    "import matplotlib.pyplot as plt"
   ]
  },
  {
   "cell_type": "code",
   "execution_count": 2,
   "metadata": {},
   "outputs": [],
   "source": [
    "# pass in pearson corr_coef, P(Y=0|X1,X2) for 4 value combinations of X1 X2\n",
    "def generator(rho, p_00, p_01, p_10, p_11, amount):\n",
    "    # percent_abc means P(X1=a,X2=b,Y=c)\n",
    "    data = list()\n",
    "    percent_000 = p_00*(1+rho)/4\n",
    "    add_000 = [[0,0,0] for i in range(int(amount*percent_000))]\n",
    "    data += add_000\n",
    "    percent_001 = (1-p_00)*(1+rho)/4\n",
    "    add_001 = [[0,0,1] for i in range(int(amount*percent_001))]\n",
    "    data += add_001\n",
    "    percent_010 = p_01*(1-rho)/4\n",
    "    add_010 = [[0,1,0] for i in range(int(amount*percent_010))]\n",
    "    data += add_010\n",
    "    percent_011 = (1-p_01)*(1-rho)/4\n",
    "    add_011 = [[0,1,1] for i in range(int(amount*percent_011))]\n",
    "    data += add_011\n",
    "    percent_100 = p_10*(1-rho)/4\n",
    "    add_100 = [[1,0,0] for i in range(int(amount*percent_100))]\n",
    "    data += add_100\n",
    "    percent_101 = (1-p_10)*(1-rho)/4\n",
    "    add_101 = [[1,0,1] for i in range(int(amount*percent_101))]\n",
    "    data += add_101\n",
    "    percent_110 = p_11*(1+rho)/4\n",
    "    add_110 = [[1,1,0] for i in range(int(amount*percent_110))]\n",
    "    data += add_110\n",
    "    percent_111 = (1-p_11)*(1+rho)/4\n",
    "    add_111 = [[1,1,1] for i in range(int(amount*percent_111))]\n",
    "    data += add_111\n",
    "    return np.array(data)"
   ]
  },
  {
   "cell_type": "code",
   "execution_count": 3,
   "metadata": {},
   "outputs": [],
   "source": [
    "def compute_cmi(rho, p_00, p_01, p_10, p_11, amount):\n",
    "    data = generator(rho, p_00, p_01, p_10, p_11, amount)\n",
    "    X1 = list(data[:,0].flatten())\n",
    "    X2 = list(data[:,1].flatten())\n",
    "    Y = list(data[:,2].flatten())\n",
    "    return drv.information_mutual_conditional(X1,X2,Y)"
   ]
  },
  {
   "cell_type": "code",
   "execution_count": 4,
   "metadata": {},
   "outputs": [],
   "source": [
    "def rmse(y, y_pred, y_prob_dist):\n",
    "    mse = 0\n",
    "    for i in range(y_prob_dist.shape[0]):\n",
    "        real_prob_dist = np.array([0 for j in range(y_prob_dist.shape[1])])\n",
    "        real_prob_dist[y[i]] = 1\n",
    "        pred_prob_dist = y_prob_dist[i]\n",
    "        mse += sum([j**2 for j in real_prob_dist-pred_prob_dist])\n",
    "    return math.sqrt(0.5*mse/len(y))"
   ]
  },
  {
   "cell_type": "code",
   "execution_count": 3,
   "metadata": {},
   "outputs": [],
   "source": [
    "def ciber_experiment(rho, p_00, p_01, p_10, p_11, amount):\n",
    "    data = generator(rho, p_00, p_01, p_10, p_11, amount)\n",
    "    np.random.seed(0)\n",
    "    np.random.shuffle(data)\n",
    "    X = data[:,:-1]\n",
    "    Y = data[:,-1]\n",
    "    cont_col = [i for i in range(X.shape[1])]\n",
    "    categorical = []\n",
    "    discrete_feature_val = None\n",
    "    allocation_book = None\n",
    "    min_corr = rho/2 # so that X1 X2 always comonotonic\n",
    "    X_train,X_test,Y_train,Y_test = train_test_split(X,Y,test_size=0.2,random_state=0)\n",
    "    ciber = cm.clustered_comonotonic(X_train,Y_train,discrete_feature_val,cont_col,categorical,\n",
    "                                     min_corr,None,corrtype = 'pearson',discrete_method = \"auto\",\n",
    "                                     allocation_book = allocation_book)\n",
    "    ciber.run()\n",
    "    ciber_predict = ciber.predict(X_test)\n",
    "\n",
    "    ##########\n",
    "    ciber_nb = cm.clustered_comonotonic(X_train,Y_train,discrete_feature_val,cont_col,categorical,\n",
    "                                    1,None,corrtype = 'pearson',discrete_method = \"auto\",\n",
    "                                    allocation_book = allocation_book)\n",
    "    ciber_nb.run()\n",
    "    ciber_nb_predict = ciber_nb.predict(X_test)\n",
    "\n",
    "    return accuracy_score(Y_test, ciber_predict), accuracy_score(Y_test, ciber_nb_predict)"
   ]
  },
  {
   "cell_type": "code",
   "execution_count": 4,
   "metadata": {},
   "outputs": [],
   "source": [
    "p_00 = 0.25\n",
    "p_01 = 0.75\n",
    "p_10 = 0.75\n",
    "p_11 = 0.25\n",
    "amount = 10000"
   ]
  },
  {
   "cell_type": "code",
   "execution_count": 5,
   "metadata": {},
   "outputs": [],
   "source": [
    "ciber_rmse = list()\n",
    "nb_rmse = list()\n",
    "rho_list = np.linspace(0,1,num=50)\n",
    "for rho in np.linspace(0,1,num=50):\n",
    "    ciber_result, nb_result = ciber_experiment(rho, p_00, p_01, p_10, p_11, amount)\n",
    "    ciber_rmse.append(ciber_result)\n",
    "    nb_rmse.append(nb_result)"
   ]
  },
  {
   "cell_type": "code",
   "execution_count": 6,
   "metadata": {},
   "outputs": [
    {
     "data": {
      "image/png": "[encoded data removed]",
      "text/plain": [
       "<Figure size 432x288 with 1 Axes>"
      ]
     },
     "metadata": {
      "needs_background": "light"
     },
     "output_type": "display_data"
    }
   ],
   "source": [
    "plt.plot(rho_list, ciber_rmse, label = 'CIBer')\n",
    "plt.plot(rho_list, nb_rmse, label = 'NB')\n",
    "plt.xlabel('Rho')\n",
    "plt.ylabel('Accuracy Score')\n",
    "plt.title('Accuracy Score for CIBer & NB')\n",
    "plt.legend()\n",
    "plt.show()"
   ]
  }
 ],
 "metadata": {
  "kernelspec": {
   "display_name": "Python 3",
   "language": "python",
   "name": "python3"
  },
  "language_info": {
   "codemirror_mode": {
    "name": "ipython",
    "version": 3
   },
   "file_extension": ".py",
   "mimetype": "text/x-python",
   "name": "python",
   "nbconvert_exporter": "python",
   "pygments_lexer": "ipython3",
   "version": "3.8.5"
  }
 },
 "nbformat": 4,
 "nbformat_minor": 2
}
