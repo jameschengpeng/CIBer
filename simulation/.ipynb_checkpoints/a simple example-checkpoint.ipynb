{
 "cells": [
  {
   "cell_type": "markdown",
   "metadata": {},
   "source": [
    "We assume there are only two predictors $X_0$ and $X_1$. Points in class $0$ fall on the line segment $X_1 = X_0 + 20$ with $X_0 \\in [0,100]$. Points in class $1$ fall on the line segment $X_1 = X_0 - 20$ with $X_0 \\in [20,120]$. Please note that in both cases $X_0$ are uniformly distributed. We assume $X_0$ and $X_1$ are comonotonic. In this notebook, we compare CIBer with Naive Bayes.\n",
    "Let's first think of an example. If we would like to classify point $(55,35)$. We know that it should be class $1$ since it falls on the line segment $X_1 = X_0 - 20$. Furtherly, suppose we discretize $X_0$ into equal bins with length $10$. Then each conditional marginal probability equals to $0.1$.\n",
    "\n",
    "$\\textbf{Naive Bayes}$\n",
    "\n",
    "$\\mathbb{P}(X_0,X_1|Y=0)\\cdot \\mathbb{P}(Y=0)=0.1\\cdot0.1\\cdot0.5=0.0005$\n",
    "\n",
    "$\\mathbb{P}(X_0,X_1|Y=1)\\cdot \\mathbb{P}(Y=1)=0.1\\cdot0.1\\cdot0.5=0.0005$\n",
    "\n",
    "$\\textbf{CIBer}$\n",
    "\n",
    "$\\mathbb{P}(X_0,X_1|Y=0)\\cdot \\mathbb{P}(Y=0)= Leb([0.5,0.6]\\cap[0.1,0.2])\\cdot0.5=0$\n",
    "\n",
    "$\\mathbb{P}(X_0,X_1|Y=1)\\cdot \\mathbb{P}(Y=1)= Leb([0.3,0.4]\\cap[0.3,0.4])\\cdot0.5=0.05$\n",
    "\n",
    "So we can see that Naive Bayes can not make a decision but CIBer will definitely predict it as class $1$."
   ]
  },
  {
   "cell_type": "code",
   "execution_count": 1,
   "metadata": {},
   "outputs": [],
   "source": [
    "import numpy as np\n",
    "import pandas as pd\n",
    "import sys\n",
    "sys.path.insert(1, '/Users/chengpeng/Desktop/Research/STAT/CIBer')\n",
    "import comonotonic as cm\n",
    "import random\n",
    "import matplotlib.pyplot as plt\n",
    "from sklearn.model_selection import train_test_split\n",
    "import tool_box as tb\n",
    "from sklearn import preprocessing\n",
    "from sklearn.metrics import classification_report\n",
    "from sklearn.metrics import accuracy_score, roc_auc_score"
   ]
  },
  {
   "cell_type": "code",
   "execution_count": 2,
   "metadata": {},
   "outputs": [],
   "source": [
    "def experiment(discretization):\n",
    "    n_sample_each_class = 5000\n",
    "    class0_X0 = np.random.uniform(0,100,n_sample_each_class).reshape(-1,1)\n",
    "    class0_X1 = class0_X0 + 20\n",
    "    class1_X0 = np.random.uniform(20,120,n_sample_each_class).reshape(-1,1)\n",
    "    class1_X1 = class1_X0 - 20\n",
    "    class0 = np.array([0 for i in range(n_sample_each_class)]).reshape(-1,1)\n",
    "    class1 = np.array([1 for i in range(n_sample_each_class)]).reshape(-1,1)\n",
    "    class0 = np.concatenate((class0_X0, class0_X1, class0), axis = 1)\n",
    "    class1 = np.concatenate((class1_X0, class1_X1, class1), axis = 1)\n",
    "    data = np.concatenate((class0, class1), axis = 0)\n",
    "    X = data[:,:-1]\n",
    "    Y = data[:,-1]\n",
    "    cont_col = [i for i in range(X.shape[1])]\n",
    "    categorical = []\n",
    "    discrete_feature_val = None\n",
    "    allocation_book = {0:10,1:10}\n",
    "    X_train,X_test,Y_train,Y_test = train_test_split(X,Y,test_size=0.2,shuffle = True)\n",
    "    ciber = cm.clustered_comonotonic(X_train,Y_train,discrete_feature_val,cont_col,categorical,\n",
    "                                    0,None,corrtype = 'pearson',discrete_method = discretization,\n",
    "                                    allocation_book = allocation_book)\n",
    "    ciber.run()\n",
    "    ciber_predict = ciber.predict(X_test)\n",
    "\n",
    "    ciber_nb = cm.clustered_comonotonic(X_train,Y_train,discrete_feature_val,cont_col,categorical,\n",
    "                                    1,None,corrtype = 'pearson',discrete_method = discretization,\n",
    "                                    allocation_book = allocation_book)\n",
    "    ciber_nb.run()\n",
    "    ciber_nb_predict = ciber_nb.predict(X_test)\n",
    "    \n",
    "    return accuracy_score(Y_test, ciber_predict), accuracy_score(Y_test, ciber_nb_predict)"
   ]
  },
  {
   "cell_type": "code",
   "execution_count": 3,
   "metadata": {},
   "outputs": [],
   "source": [
    "custom_ciber_result = []\n",
    "custom_ciber_nb_result = []\n",
    "for i in range(1000):\n",
    "    a, b = experiment(\"custom\")\n",
    "    custom_ciber_result.append(a)\n",
    "    custom_ciber_nb_result.append(b)"
   ]
  },
  {
   "cell_type": "code",
   "execution_count": 4,
   "metadata": {},
   "outputs": [],
   "source": [
    "auto_ciber_result = []\n",
    "auto_ciber_nb_result = []\n",
    "for i in range(1000):\n",
    "    a, b = experiment(\"auto\")\n",
    "    auto_ciber_result.append(a)\n",
    "    auto_ciber_nb_result.append(b)"
   ]
  },
  {
   "cell_type": "code",
   "execution_count": 5,
   "metadata": {},
   "outputs": [],
   "source": [
    "mdlp_ciber_result = []\n",
    "mdlp_ciber_nb_result = []\n",
    "for i in range(1000):\n",
    "    a, b = experiment(\"mdlp\")\n",
    "    mdlp_ciber_result.append(a)\n",
    "    mdlp_ciber_nb_result.append(b)"
   ]
  },
  {
   "cell_type": "code",
   "execution_count": 6,
   "metadata": {},
   "outputs": [],
   "source": [
    "data_to_plot = [custom_ciber_result, custom_ciber_nb_result, auto_ciber_result, auto_ciber_nb_result, mdlp_ciber_result, mdlp_ciber_nb_result]"
   ]
  },
  {
   "cell_type": "code",
   "execution_count": 17,
   "metadata": {},
   "outputs": [
    {
     "data": {
      "image/png": "[encoded data removed]",
      "text/plain": [
       "<Figure size 864x576 with 1 Axes>"
      ]
     },
     "metadata": {
      "needs_background": "light"
     },
     "output_type": "display_data"
    }
   ],
   "source": [
    "fig = plt.figure(figsize=(12,8))\n",
    "fig.suptitle('Performance Comparison (With Discretization)', fontsize=14, fontweight='bold')\n",
    "\n",
    "ax = fig.add_subplot(111)\n",
    "ax.boxplot(data_to_plot)\n",
    "\n",
    "ax.set_xlabel('Methods')\n",
    "ax.set_ylabel('Accuracy Score')\n",
    "ax.set_xticklabels(['CIBer (Uniform)','Naive Bayes (Uniform)','CIBer (Mean-Std)','Naive Bayes (Mean-Std)','CIBer (MDLP)','Naive Bayes (MDLP)'])\n",
    "plt.savefig(\"With discretization.png\", format = 'png', dpi = 1200)\n",
    "plt.show()"
   ]
  },
  {
   "cell_type": "markdown",
   "metadata": {},
   "source": [
    "Meanwhile, we also claim that if a point satisfies either it is in class $0$ and $X_0\\in[20,80]$ or it is in class $1$ and $X_1\\in[20,80]$, then the naive bayes has no predictability. In other words, the AUC should be 0.5. "
   ]
  },
  {
   "cell_type": "code",
   "execution_count": 2,
   "metadata": {},
   "outputs": [],
   "source": [
    "def special_experiment():\n",
    "    n_train_each_class = 4000\n",
    "    n_test_each_class = 1000\n",
    "    class0_X0 = np.random.uniform(0,100,n_train_each_class).reshape(-1,1)\n",
    "    class0_X1 = class0_X0 + 20\n",
    "    class1_X0 = np.random.uniform(20,120,n_train_each_class).reshape(-1,1)\n",
    "    class1_X1 = class1_X0 - 20\n",
    "    class0 = np.array([0 for i in range(n_train_each_class)]).reshape(-1,1)\n",
    "    class1 = np.array([1 for i in range(n_train_each_class)]).reshape(-1,1)\n",
    "    class0 = np.concatenate((class0_X0, class0_X1, class0), axis = 1)\n",
    "    class1 = np.concatenate((class1_X0, class1_X1, class1), axis = 1)\n",
    "    data = np.concatenate((class0, class1), axis = 0)\n",
    "    X_train = data[:,:-1]\n",
    "    Y_train = data[:,-1]\n",
    "    cont_col = [i for i in range(X_train.shape[1])]\n",
    "    categorical = []\n",
    "    discrete_feature_val = None\n",
    "    allocation_book = {0:10,1:10}\n",
    "\n",
    "    test_0_X0 = np.random.uniform(20,80,n_test_each_class).reshape(-1,1)\n",
    "    test_0_X1 = test_0_X0 + 20\n",
    "    test_1_X1 = np.random.uniform(20,80,n_test_each_class).reshape(-1,1)\n",
    "    test_1_X0 = test_1_X1 + 20\n",
    "    test0 = np.array([0 for i in range(n_test_each_class)]).reshape(-1,1)\n",
    "    test1 = np.array([1 for i in range(n_test_each_class)]).reshape(-1,1)\n",
    "    test0 = np.concatenate((test_0_X0, test_0_X1, test0), axis = 1)\n",
    "    test1 = np.concatenate((test_1_X0, test_1_X1, test1), axis = 1)\n",
    "    test_data = np.concatenate((test0, test1), axis = 0)\n",
    "    X_test = test_data[:,:-1]\n",
    "    Y_test = test_data[:,-1]\n",
    "    \n",
    "    ciber = cm.clustered_comonotonic(X_train,Y_train,discrete_feature_val,cont_col,categorical,\n",
    "                                    0.3,None,corrtype = 'pearson',discrete_method = \"auto\",\n",
    "                                    allocation_book = allocation_book)\n",
    "    ciber.run()\n",
    "    ciber_predict = ciber.predict(X_test)\n",
    "    ciber_acc = accuracy_score(Y_test, ciber_predict)\n",
    "    ciber_y_score = ciber.predict_proba(X_test)[:,1].flatten()\n",
    "    ciber_auc = roc_auc_score(Y_test, ciber_y_score)\n",
    "\n",
    "    ciber_nb = cm.clustered_comonotonic(X_train,Y_train,discrete_feature_val,cont_col,categorical,\n",
    "                                    1,None,corrtype = 'pearson',discrete_method = \"auto\",\n",
    "                                    allocation_book = allocation_book)\n",
    "    ciber_nb.run()\n",
    "    ciber_nb_predict = ciber_nb.predict(X_test)\n",
    "    ciber_nb_acc = accuracy_score(Y_test, ciber_nb_predict)\n",
    "    ciber_nb_y_score = ciber_nb.predict_proba(X_test)[:,1].flatten()\n",
    "    ciber_nb_auc = roc_auc_score(Y_test, ciber_nb_y_score)\n",
    "\n",
    "    return ciber_acc, ciber_auc, ciber_nb_acc, ciber_nb_auc"
   ]
  },
  {
   "cell_type": "code",
   "execution_count": 3,
   "metadata": {},
   "outputs": [],
   "source": [
    "ciber_acc_record = []\n",
    "ciber_auc_record = []\n",
    "ciber_nb_acc_record = []\n",
    "ciber_nb_auc_record = []\n",
    "for i in range(1000):\n",
    "    a, b, c, d = special_experiment()\n",
    "    ciber_acc_record.append(a)\n",
    "    ciber_auc_record.append(b)\n",
    "    ciber_nb_acc_record.append(c)\n",
    "    ciber_nb_auc_record.append(d)"
   ]
  },
  {
   "cell_type": "code",
   "execution_count": 4,
   "metadata": {},
   "outputs": [],
   "source": [
    "acc = [ciber_acc_record, ciber_nb_acc_record]\n",
    "auc = [ciber_auc_record, ciber_nb_auc_record]"
   ]
  },
  {
   "cell_type": "code",
   "execution_count": 5,
   "metadata": {},
   "outputs": [
    {
     "data": {
      "image/png": "[encoded data removed]",
      "text/plain": [
       "<Figure size 432x288 with 1 Axes>"
      ]
     },
     "metadata": {
      "needs_background": "light"
     },
     "output_type": "display_data"
    }
   ],
   "source": [
    "accfig = plt.figure()\n",
    "accfig.suptitle('Performance compare', fontsize=14, fontweight='bold')\n",
    "\n",
    "acc_ax = accfig.add_subplot(111)\n",
    "acc_ax.boxplot(acc)\n",
    "\n",
    "acc_ax.set_xlabel('Methods')\n",
    "acc_ax.set_ylabel('Accuracy Score')\n",
    "acc_ax.set_xticklabels(['CIBer','NB'])\n",
    "\n",
    "plt.show()"
   ]
  },
  {
   "cell_type": "code",
   "execution_count": 6,
   "metadata": {},
   "outputs": [
    {
     "data": {
      "image/png": "[encoded data removed]",
      "text/plain": [
       "<Figure size 432x288 with 1 Axes>"
      ]
     },
     "metadata": {
      "needs_background": "light"
     },
     "output_type": "display_data"
    }
   ],
   "source": [
    "aucfig = plt.figure()\n",
    "aucfig.suptitle('Performance compare', fontsize=14, fontweight='bold')\n",
    "\n",
    "auc_ax = aucfig.add_subplot(111)\n",
    "auc_ax.boxplot(auc)\n",
    "\n",
    "auc_ax.set_xlabel('Methods')\n",
    "auc_ax.set_ylabel('AUC Score')\n",
    "auc_ax.set_xticklabels(['CIBer','NB'])\n",
    "\n",
    "plt.show()"
   ]
  }
 ],
 "metadata": {
  "kernelspec": {
   "display_name": "Python 3",
   "language": "python",
   "name": "python3"
  },
  "language_info": {
   "codemirror_mode": {
    "name": "ipython",
    "version": 3
   },
   "file_extension": ".py",
   "mimetype": "text/x-python",
   "name": "python",
   "nbconvert_exporter": "python",
   "pygments_lexer": "ipython3",
   "version": "3.8.5"
  }
 },
 "nbformat": 4,
 "nbformat_minor": 2
}
