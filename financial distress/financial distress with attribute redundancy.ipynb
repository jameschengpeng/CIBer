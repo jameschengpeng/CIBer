{
 "cells": [
  {
   "cell_type": "markdown",
   "metadata": {},
   "source": [
    "https://www.kaggle.com/shebrahimi/financial-distress"
   ]
  },
  {
   "cell_type": "markdown",
   "metadata": {},
   "source": [
    "In this notebook we duplicate all continuous features and test CIBer and other competitors. Theoretically, there should be no influence to CIBer due to its special calculation of joint probabilities. However, for Naive Bayes, since $\\mathbb{P}(X_i=x|Y=0) \\neq \\mathbb{P}(X_i=x|Y=1)$, the sign of $\\mathbb{P}(\\mathbf{X}|Y=0)\\cdot\\mathbb{P}(Y=0)-\\mathbb{P}(\\mathbf{X}|Y=1)\\cdot\\mathbb{P}(Y=1)$ may change after variable duplication."
   ]
  },
  {
   "cell_type": "code",
   "execution_count": 1,
   "metadata": {},
   "outputs": [
    {
     "name": "stderr",
     "output_type": "stream",
     "text": [
      "/home/r7user5/anaconda3/lib/python3.7/site-packages/dask/dataframe/utils.py:13: FutureWarning: pandas.util.testing is deprecated. Use the functions in the public API at pandas.testing instead.\n",
      "  import pandas.util.testing as tm\n"
     ]
    }
   ],
   "source": [
    "import numpy as np\n",
    "import pandas as pd\n",
    "import sys\n",
    "sys.path.insert(1, '/home/r7user5/Desktop/STAT')\n",
    "import comonotonic as cm\n",
    "import os\n",
    "from sklearn.model_selection import train_test_split\n",
    "from sklearn import preprocessing\n",
    "from sklearn.model_selection import KFold\n",
    "from sklearn.metrics import accuracy_score\n",
    "import copy\n",
    "import utils\n",
    "import matplotlib.pyplot as plt\n",
    "import seaborn as sns\n",
    "from sklearn.metrics import classification_report, roc_auc_score\n",
    "from imblearn.over_sampling import SMOTE\n",
    "import ensemble_ciber as ec\n",
    "import conditional_ciber as cc\n",
    "from sklearn.ensemble import AdaBoostClassifier\n",
    "from sklearn.ensemble import RandomForestClassifier\n",
    "import xgboost as xgb\n",
    "import lightgbm as lgb\n",
    "from sklearn import tree\n",
    "from sklearn.svm import SVC\n",
    "from sklearn.linear_model import LogisticRegression\n",
    "from sklearn.naive_bayes import GaussianNB\n",
    "from imblearn.over_sampling import SMOTENC\n",
    "import xlsxwriter"
   ]
  },
  {
   "cell_type": "code",
   "execution_count": 2,
   "metadata": {},
   "outputs": [],
   "source": [
    "df = pd.read_csv(\"Financial Distress.csv\")\n",
    "df['Financial Distress'].values[df['Financial Distress'].values > -0.5] = 0\n",
    "df['Financial Distress'].values[df['Financial Distress'].values <= -0.5] = 1\n",
    "df['x80'] = df['x80']-1\n",
    "df['Financial Distress'] = df['Financial Distress'].astype(int)\n",
    "distress = df['Financial Distress']\n",
    "df = df.drop(columns=['Company','Time','Financial Distress'])\n",
    "df['Financial Distress'] = distress"
   ]
  },
  {
   "cell_type": "code",
   "execution_count": 3,
   "metadata": {},
   "outputs": [],
   "source": [
    "redundant_df = df.copy()\n",
    "redundant_df = redundant_df.drop(columns=['Financial Distress'])\n",
    "for i in range(redundant_df.shape[1]):\n",
    "    if i != 79:\n",
    "        redundant_df['Add'+str(i)] = df.iloc[:,i]\n",
    "redundant_df['Financial Distress'] = distress"
   ]
  },
  {
   "cell_type": "code",
   "execution_count": 4,
   "metadata": {},
   "outputs": [],
   "source": [
    "del df"
   ]
  },
  {
   "cell_type": "code",
   "execution_count": 5,
   "metadata": {},
   "outputs": [],
   "source": [
    "colnames = [('X'+str(i)) for i in range(redundant_df.shape[1]-1)]\n",
    "colnames.append('Y')\n",
    "redundant_df.columns = colnames"
   ]
  },
  {
   "cell_type": "code",
   "execution_count": 6,
   "metadata": {},
   "outputs": [],
   "source": [
    "categorical = [79]\n",
    "cont_col = [i for i in range(redundant_df.shape[1]-1)]\n",
    "cont_col.remove(79)\n",
    "discrete_feature_val = {79:37}"
   ]
  },
  {
   "cell_type": "code",
   "execution_count": 7,
   "metadata": {},
   "outputs": [],
   "source": [
    "scaler = preprocessing.MinMaxScaler()\n",
    "scale_col_name = [\"X\"+str(i) for i in cont_col]\n",
    "redundant_df[scale_col_name] = scaler.fit_transform(redundant_df[scale_col_name])\n",
    "original_cont_col = [i for i in range(83)]\n",
    "original_cont_col.remove(79)\n",
    "reduced_df = utils.outlier_removal(redundant_df, original_cont_col)"
   ]
  },
  {
   "cell_type": "code",
   "execution_count": 8,
   "metadata": {},
   "outputs": [],
   "source": [
    "x = reduced_df.iloc[:,:-1].to_numpy()\n",
    "y = reduced_df.iloc[:,-1].to_numpy()\n",
    "smote_nc = SMOTENC(categorical_features=[79], random_state=0)\n",
    "x_resample, y_resample = smote_nc.fit_resample(x, y)"
   ]
  },
  {
   "cell_type": "code",
   "execution_count": 6,
   "metadata": {},
   "outputs": [],
   "source": [
    "k_fold = KFold(n_splits = 5, shuffle = True)\n",
    "ciber_record = list()\n",
    "ada_record = list()\n",
    "rf_record = list()\n",
    "xgb_record = list()\n",
    "lgb_record = list()\n",
    "DT_record = list()\n",
    "svm_record = list()\n",
    "lr_record = list()\n",
    "nb_record = list()\n",
    "gaussian_nb_record = list()"
   ]
  },
  {
   "cell_type": "code",
   "execution_count": 7,
   "metadata": {},
   "outputs": [
    {
     "name": "stderr",
     "output_type": "stream",
     "text": [
      "/home/r7user5/anaconda3/lib/python3.7/site-packages/sklearn/ensemble/forest.py:245: FutureWarning: The default value of n_estimators will change from 10 in version 0.20 to 100 in 0.22.\n",
      "  \"10 in version 0.20 to 100 in 0.22.\", FutureWarning)\n",
      "/home/r7user5/anaconda3/lib/python3.7/site-packages/sklearn/svm/base.py:193: FutureWarning: The default value of gamma will change from 'auto' to 'scale' in version 0.22 to account better for unscaled features. Set gamma explicitly to 'auto' or 'scale' to avoid this warning.\n",
      "  \"avoid this warning.\", FutureWarning)\n",
      "/home/r7user5/anaconda3/lib/python3.7/site-packages/sklearn/linear_model/logistic.py:432: FutureWarning: Default solver will be changed to 'lbfgs' in 0.22. Specify a solver to silence this warning.\n",
      "  FutureWarning)\n"
     ]
    },
    {
     "name": "stdout",
     "output_type": "stream",
     "text": [
      "1\n"
     ]
    },
    {
     "name": "stderr",
     "output_type": "stream",
     "text": [
      "/home/r7user5/anaconda3/lib/python3.7/site-packages/sklearn/ensemble/forest.py:245: FutureWarning: The default value of n_estimators will change from 10 in version 0.20 to 100 in 0.22.\n",
      "  \"10 in version 0.20 to 100 in 0.22.\", FutureWarning)\n",
      "/home/r7user5/anaconda3/lib/python3.7/site-packages/sklearn/svm/base.py:193: FutureWarning: The default value of gamma will change from 'auto' to 'scale' in version 0.22 to account better for unscaled features. Set gamma explicitly to 'auto' or 'scale' to avoid this warning.\n",
      "  \"avoid this warning.\", FutureWarning)\n",
      "/home/r7user5/anaconda3/lib/python3.7/site-packages/sklearn/linear_model/logistic.py:432: FutureWarning: Default solver will be changed to 'lbfgs' in 0.22. Specify a solver to silence this warning.\n",
      "  FutureWarning)\n"
     ]
    },
    {
     "name": "stdout",
     "output_type": "stream",
     "text": [
      "2\n"
     ]
    },
    {
     "name": "stderr",
     "output_type": "stream",
     "text": [
      "/home/r7user5/anaconda3/lib/python3.7/site-packages/sklearn/ensemble/forest.py:245: FutureWarning: The default value of n_estimators will change from 10 in version 0.20 to 100 in 0.22.\n",
      "  \"10 in version 0.20 to 100 in 0.22.\", FutureWarning)\n",
      "/home/r7user5/anaconda3/lib/python3.7/site-packages/sklearn/svm/base.py:193: FutureWarning: The default value of gamma will change from 'auto' to 'scale' in version 0.22 to account better for unscaled features. Set gamma explicitly to 'auto' or 'scale' to avoid this warning.\n",
      "  \"avoid this warning.\", FutureWarning)\n",
      "/home/r7user5/anaconda3/lib/python3.7/site-packages/sklearn/linear_model/logistic.py:432: FutureWarning: Default solver will be changed to 'lbfgs' in 0.22. Specify a solver to silence this warning.\n",
      "  FutureWarning)\n"
     ]
    },
    {
     "name": "stdout",
     "output_type": "stream",
     "text": [
      "3\n"
     ]
    },
    {
     "name": "stderr",
     "output_type": "stream",
     "text": [
      "/home/r7user5/anaconda3/lib/python3.7/site-packages/sklearn/ensemble/forest.py:245: FutureWarning: The default value of n_estimators will change from 10 in version 0.20 to 100 in 0.22.\n",
      "  \"10 in version 0.20 to 100 in 0.22.\", FutureWarning)\n",
      "/home/r7user5/anaconda3/lib/python3.7/site-packages/sklearn/svm/base.py:193: FutureWarning: The default value of gamma will change from 'auto' to 'scale' in version 0.22 to account better for unscaled features. Set gamma explicitly to 'auto' or 'scale' to avoid this warning.\n",
      "  \"avoid this warning.\", FutureWarning)\n",
      "/home/r7user5/anaconda3/lib/python3.7/site-packages/sklearn/linear_model/logistic.py:432: FutureWarning: Default solver will be changed to 'lbfgs' in 0.22. Specify a solver to silence this warning.\n",
      "  FutureWarning)\n"
     ]
    },
    {
     "name": "stdout",
     "output_type": "stream",
     "text": [
      "4\n"
     ]
    },
    {
     "name": "stderr",
     "output_type": "stream",
     "text": [
      "/home/r7user5/anaconda3/lib/python3.7/site-packages/sklearn/ensemble/forest.py:245: FutureWarning: The default value of n_estimators will change from 10 in version 0.20 to 100 in 0.22.\n",
      "  \"10 in version 0.20 to 100 in 0.22.\", FutureWarning)\n",
      "/home/r7user5/anaconda3/lib/python3.7/site-packages/sklearn/svm/base.py:193: FutureWarning: The default value of gamma will change from 'auto' to 'scale' in version 0.22 to account better for unscaled features. Set gamma explicitly to 'auto' or 'scale' to avoid this warning.\n",
      "  \"avoid this warning.\", FutureWarning)\n",
      "/home/r7user5/anaconda3/lib/python3.7/site-packages/sklearn/linear_model/logistic.py:432: FutureWarning: Default solver will be changed to 'lbfgs' in 0.22. Specify a solver to silence this warning.\n",
      "  FutureWarning)\n"
     ]
    },
    {
     "name": "stdout",
     "output_type": "stream",
     "text": [
      "5\n"
     ]
    }
   ],
   "source": [
    "itr = 1\n",
    "for train_idx, test_idx in k_fold.split(x_resample):\n",
    "    x_train, x_test = x_resample[train_idx,:], x_resample[test_idx,:]\n",
    "    y_train, y_test = y_resample[train_idx], y_resample[test_idx]\n",
    "    # ciber\n",
    "    ciber = cm.clustered_comonotonic(x_train,y_train,discrete_feature_val,cont_col,\n",
    "                                     categorical, 0.98, None, corrtype='mutual_info',\n",
    "                                     discrete_method='mdlp')\n",
    "    ciber.run()\n",
    "    ciber_predict = ciber.predict(x_test)\n",
    "    ciber_record.append(accuracy_score(y_test, ciber_predict))\n",
    "    #  adaboost\n",
    "    ada_clf = AdaBoostClassifier()\n",
    "    ada_clf.fit(x_train,y_train)\n",
    "    ada_predict = ada_clf.predict(x_test)\n",
    "    ada_record.append(accuracy_score(y_test, ada_predict))\n",
    "    # random forest\n",
    "    rf_clf = RandomForestClassifier()\n",
    "    rf_clf.fit(x_train,y_train)\n",
    "    rf_predict = rf_clf.predict(x_test)\n",
    "    rf_record.append(accuracy_score(y_test, rf_predict))\n",
    "    # xgboost\n",
    "    xgb_clf = xgb.XGBClassifier()\n",
    "    xgb_clf.fit(x_train,y_train)\n",
    "    xgb_predict = xgb_clf.predict(x_test)\n",
    "    xgb_record.append(accuracy_score(y_test, xgb_predict))\n",
    "    # light GBM\n",
    "    lgb_clf = lgb.LGBMClassifier()\n",
    "    lgb_clf.fit(x_train, y_train)\n",
    "    lgb_predict = lgb_clf.predict(x_test)\n",
    "    lgb_predict = lgb_predict.round(0).astype('int')\n",
    "    lgb_record.append(accuracy_score(y_test, lgb_predict))\n",
    "    # decision tree\n",
    "    DT_clf = tree.DecisionTreeClassifier()\n",
    "    DT_clf.fit(x_train, y_train)\n",
    "    DT_predict = DT_clf.predict(x_test)\n",
    "    DT_record.append(accuracy_score(y_test, DT_predict))\n",
    "    # svm\n",
    "    svm = SVC()\n",
    "    svm.fit(x_train, y_train)\n",
    "    svm_predict = svm.predict(x_test)\n",
    "    svm_record.append(accuracy_score(y_test, svm_predict))\n",
    "    # logistic regression\n",
    "    lr_clf = LogisticRegression()\n",
    "    lr_clf.fit(x_train, y_train)\n",
    "    lr_predict = lr_clf.predict(x_test)\n",
    "    lr_record.append(accuracy_score(y_test, lr_predict))\n",
    "    # nb by ciber\n",
    "    nb_clf = cm.clustered_comonotonic(x_train,y_train,discrete_feature_val,cont_col,\n",
    "                                    categorical, 1, None, corrtype='spearman',\n",
    "                                    discrete_method='mdlp')\n",
    "    nb_clf.run()\n",
    "    nb_predict = nb_clf.predict(x_test)\n",
    "    nb_record.append(accuracy_score(y_test, nb_predict))\n",
    "    # gaussian nb\n",
    "    gaussian_nb = GaussianNB()\n",
    "    gaussian_nb.fit(x_train, y_train)\n",
    "    gaussian_predict = gaussian_nb.predict(x_test)\n",
    "    gaussian_nb_record.append(accuracy_score(y_test, gaussian_predict))\n",
    "    \n",
    "    print(itr)\n",
    "    itr += 1\n",
    "    del x_train, x_test, y_train, y_test"
   ]
  },
  {
   "cell_type": "code",
   "execution_count": 8,
   "metadata": {},
   "outputs": [],
   "source": [
    "record = dict()\n",
    "record['ciber'] = ciber_record\n",
    "record['adaboost'] = ada_record\n",
    "record['random forest'] = rf_record\n",
    "record['xgboost'] = xgb_record\n",
    "record['light GBM'] = lgb_record\n",
    "record['decision tree'] = DT_record\n",
    "record['svm'] = svm_record\n",
    "record['logistic regress'] = lr_record\n",
    "record['ciber nb'] = nb_record\n",
    "record['gaussian nb'] = gaussian_nb_record"
   ]
  },
  {
   "cell_type": "code",
   "execution_count": 9,
   "metadata": {},
   "outputs": [],
   "source": [
    "workbook = xlsxwriter.Workbook('5-fold CV.xlsx') \n",
    "worksheet = workbook.add_worksheet() \n",
    "row = 0\n",
    "for method in record.keys():\n",
    "    column = 1\n",
    "    worksheet.write(row, 0, method)\n",
    "    for acc in record[method]:\n",
    "        worksheet.write(row, column, acc)\n",
    "        column += 1\n",
    "    row += 1\n",
    "workbook.close()"
   ]
  },
  {
   "cell_type": "code",
   "execution_count": 9,
   "metadata": {},
   "outputs": [],
   "source": [
    "x_train,x_test,y_train,y_test = train_test_split(x_resample,y_resample,test_size=0.2,random_state=14)"
   ]
  },
  {
   "cell_type": "code",
   "execution_count": 10,
   "metadata": {},
   "outputs": [
    {
     "name": "stdout",
     "output_type": "stream",
     "text": [
      "              precision    recall  f1-score   support\n",
      "\n",
      "           0       0.95      0.99      0.97       714\n",
      "           1       0.99      0.95      0.97       681\n",
      "\n",
      "    accuracy                           0.97      1395\n",
      "   macro avg       0.97      0.97      0.97      1395\n",
      "weighted avg       0.97      0.97      0.97      1395\n",
      "\n",
      "0.9693666012660571\n"
     ]
    }
   ],
   "source": [
    "c_como_demo = cm.clustered_comonotonic(x_train,y_train,discrete_feature_val,cont_col,\n",
    "                                      categorical, 0.98, None, corrtype='mutual_info',\n",
    "                                      discrete_method='mdlp')\n",
    "c_como_demo.run()\n",
    "c_como_predict = c_como_demo.predict(x_test)\n",
    "print(classification_report(y_test,c_como_predict))\n",
    "print(roc_auc_score(y_test, c_como_predict))"
   ]
  },
  {
   "cell_type": "code",
   "execution_count": 12,
   "metadata": {},
   "outputs": [
    {
     "name": "stdout",
     "output_type": "stream",
     "text": [
      "              precision    recall  f1-score   support\n",
      "\n",
      "           0       0.97      0.91      0.94       714\n",
      "           1       0.91      0.97      0.94       681\n",
      "\n",
      "    accuracy                           0.94      1395\n",
      "   macro avg       0.94      0.94      0.94      1395\n",
      "weighted avg       0.94      0.94      0.94      1395\n",
      "\n"
     ]
    }
   ],
   "source": [
    "NB = cm.clustered_comonotonic(x_train,y_train,discrete_feature_val,cont_col,\n",
    "                              categorical, 1, None, corrtype='mutual_info',\n",
    "                              discrete_method='mdlp')\n",
    "NB.run()\n",
    "NB_predict = NB.predict(x_test)\n",
    "print(classification_report(y_test,NB_predict))\n",
    "print(roc_auc_score(y_test, NB_predict))"
   ]
  },
  {
   "cell_type": "code",
   "execution_count": 11,
   "metadata": {},
   "outputs": [
    {
     "name": "stdout",
     "output_type": "stream",
     "text": [
      "              precision    recall  f1-score   support\n",
      "\n",
      "           0       1.00      0.96      0.98       714\n",
      "           1       0.96      1.00      0.98       681\n",
      "\n",
      "    accuracy                           0.98      1395\n",
      "   macro avg       0.98      0.98      0.98      1395\n",
      "weighted avg       0.98      0.98      0.98      1395\n",
      "\n",
      "0.9817587828082776\n"
     ]
    }
   ],
   "source": [
    "xgb_clf = xgb.XGBClassifier()\n",
    "xgb_clf.fit(x_train,y_train)\n",
    "xgb_predict = xgb_clf.predict(x_test)\n",
    "print(classification_report(y_test, xgb_predict))\n",
    "print(roc_auc_score(y_test, xgb_predict))"
   ]
  },
  {
   "cell_type": "code",
   "execution_count": 12,
   "metadata": {},
   "outputs": [
    {
     "name": "stderr",
     "output_type": "stream",
     "text": [
      "/home/r7user5/anaconda3/lib/python3.7/site-packages/sklearn/ensemble/forest.py:245: FutureWarning: The default value of n_estimators will change from 10 in version 0.20 to 100 in 0.22.\n",
      "  \"10 in version 0.20 to 100 in 0.22.\", FutureWarning)\n"
     ]
    },
    {
     "name": "stdout",
     "output_type": "stream",
     "text": [
      "              precision    recall  f1-score   support\n",
      "\n",
      "           0       0.99      0.97      0.98       714\n",
      "           1       0.97      0.99      0.98       681\n",
      "\n",
      "    accuracy                           0.98      1395\n",
      "   macro avg       0.98      0.98      0.98      1395\n",
      "weighted avg       0.98      0.98      0.98      1395\n",
      "\n",
      "0.9772516936289933\n"
     ]
    }
   ],
   "source": [
    "rf_clf = RandomForestClassifier()\n",
    "rf_clf.fit(x_train,y_train)\n",
    "rf_predict = rf_clf.predict(x_test)\n",
    "print(classification_report(y_test, rf_predict))\n",
    "print(roc_auc_score(y_test, rf_predict))"
   ]
  },
  {
   "cell_type": "code",
   "execution_count": 13,
   "metadata": {},
   "outputs": [
    {
     "name": "stdout",
     "output_type": "stream",
     "text": [
      "              precision    recall  f1-score   support\n",
      "\n",
      "           0       0.96      0.93      0.94       714\n",
      "           1       0.92      0.96      0.94       681\n",
      "\n",
      "    accuracy                           0.94      1395\n",
      "   macro avg       0.94      0.94      0.94      1395\n",
      "weighted avg       0.94      0.94      0.94      1395\n",
      "\n",
      "0.941592936734165\n"
     ]
    }
   ],
   "source": [
    "ada_clf = AdaBoostClassifier()\n",
    "ada_clf.fit(x_train,y_train)\n",
    "ada_predict = ada_clf.predict(x_test)\n",
    "print(classification_report(y_test, ada_predict))\n",
    "print(roc_auc_score(y_test, ada_predict))"
   ]
  },
  {
   "cell_type": "code",
   "execution_count": 14,
   "metadata": {},
   "outputs": [
    {
     "name": "stdout",
     "output_type": "stream",
     "text": [
      "              precision    recall  f1-score   support\n",
      "\n",
      "           0       1.00      0.97      0.98       714\n",
      "           1       0.97      1.00      0.98       681\n",
      "\n",
      "    accuracy                           0.98      1395\n",
      "   macro avg       0.98      0.98      0.98      1395\n",
      "weighted avg       0.98      0.98      0.98      1395\n",
      "\n",
      "0.981690914251163\n"
     ]
    }
   ],
   "source": [
    "lgb_clf = lgb.LGBMClassifier()\n",
    "lgb_clf.fit(x_train, y_train)\n",
    "lgb_predict = lgb_clf.predict(x_test)\n",
    "lgb_predict = lgb_predict.round(0).astype('int')\n",
    "print(classification_report(y_test, lgb_predict))\n",
    "print(roc_auc_score(y_test, lgb_predict))"
   ]
  },
  {
   "cell_type": "code",
   "execution_count": 15,
   "metadata": {},
   "outputs": [
    {
     "name": "stdout",
     "output_type": "stream",
     "text": [
      "              precision    recall  f1-score   support\n",
      "\n",
      "           0       0.97      0.93      0.95       714\n",
      "           1       0.93      0.97      0.95       681\n",
      "\n",
      "    accuracy                           0.95      1395\n",
      "   macro avg       0.95      0.95      0.95      1395\n",
      "weighted avg       0.95      0.95      0.95      1395\n",
      "\n",
      "0.9502338380286035\n"
     ]
    }
   ],
   "source": [
    "DT_clf = tree.DecisionTreeClassifier()\n",
    "DT_clf.fit(x_train,y_train)\n",
    "DT_predict = DT_clf.predict(x_test)\n",
    "print(classification_report(y_test, DT_predict))\n",
    "print(roc_auc_score(y_test, DT_predict))"
   ]
  },
  {
   "cell_type": "code",
   "execution_count": 16,
   "metadata": {},
   "outputs": [
    {
     "name": "stderr",
     "output_type": "stream",
     "text": [
      "/home/r7user5/anaconda3/lib/python3.7/site-packages/sklearn/svm/base.py:193: FutureWarning: The default value of gamma will change from 'auto' to 'scale' in version 0.22 to account better for unscaled features. Set gamma explicitly to 'auto' or 'scale' to avoid this warning.\n",
      "  \"avoid this warning.\", FutureWarning)\n"
     ]
    },
    {
     "name": "stdout",
     "output_type": "stream",
     "text": [
      "              precision    recall  f1-score   support\n",
      "\n",
      "           0       0.97      0.85      0.90       714\n",
      "           1       0.86      0.97      0.91       681\n",
      "\n",
      "    accuracy                           0.91      1395\n",
      "   macro avg       0.91      0.91      0.91      1395\n",
      "weighted avg       0.91      0.91      0.91      1395\n",
      "\n",
      "0.9089512456965165\n"
     ]
    }
   ],
   "source": [
    "svm = SVC()\n",
    "svm.fit(x_train, y_train)\n",
    "svm_predict = svm.predict(x_test)\n",
    "print(classification_report(y_test, svm_predict))\n",
    "print(roc_auc_score(y_test, svm_predict))"
   ]
  },
  {
   "cell_type": "code",
   "execution_count": 17,
   "metadata": {},
   "outputs": [
    {
     "name": "stderr",
     "output_type": "stream",
     "text": [
      "/home/r7user5/anaconda3/lib/python3.7/site-packages/sklearn/linear_model/logistic.py:432: FutureWarning: Default solver will be changed to 'lbfgs' in 0.22. Specify a solver to silence this warning.\n",
      "  FutureWarning)\n"
     ]
    },
    {
     "name": "stdout",
     "output_type": "stream",
     "text": [
      "              precision    recall  f1-score   support\n",
      "\n",
      "           0       0.95      0.88      0.92       714\n",
      "           1       0.89      0.95      0.92       681\n",
      "\n",
      "    accuracy                           0.92      1395\n",
      "   macro avg       0.92      0.92      0.92      1395\n",
      "weighted avg       0.92      0.92      0.92      1395\n",
      "\n",
      "0.9169134614198102\n"
     ]
    }
   ],
   "source": [
    "lr = LogisticRegression()\n",
    "lr.fit(x_train, y_train)\n",
    "lr_predict = lr.predict(x_test)\n",
    "print(classification_report(y_test, lr_predict))\n",
    "print(roc_auc_score(y_test, lr_predict))"
   ]
  },
  {
   "cell_type": "code",
   "execution_count": 18,
   "metadata": {},
   "outputs": [
    {
     "name": "stdout",
     "output_type": "stream",
     "text": [
      "              precision    recall  f1-score   support\n",
      "\n",
      "           0       0.94      0.60      0.73       714\n",
      "           1       0.70      0.96      0.81       681\n",
      "\n",
      "    accuracy                           0.78      1395\n",
      "   macro avg       0.82      0.78      0.77      1395\n",
      "weighted avg       0.82      0.78      0.77      1395\n",
      "\n",
      "0.7798621651303693\n"
     ]
    }
   ],
   "source": [
    "gaussian_nb = GaussianNB()\n",
    "gaussian_nb.fit(x_train, y_train)\n",
    "gaussian_predict = gaussian_nb.predict(x_test)\n",
    "print(classification_report(y_test, gaussian_predict))\n",
    "print(roc_auc_score(y_test, gaussian_predict))"
   ]
  }
 ],
 "metadata": {
  "kernelspec": {
   "display_name": "Python 3",
   "language": "python",
   "name": "python3"
  },
  "language_info": {
   "codemirror_mode": {
    "name": "ipython",
    "version": 3
   },
   "file_extension": ".py",
   "mimetype": "text/x-python",
   "name": "python",
   "nbconvert_exporter": "python",
   "pygments_lexer": "ipython3",
   "version": "3.7.4"
  }
 },
 "nbformat": 4,
 "nbformat_minor": 2
}
