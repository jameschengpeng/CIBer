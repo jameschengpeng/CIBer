{
 "cells": [
  {
   "cell_type": "markdown",
   "metadata": {},
   "source": [
    "https://www.kaggle.com/shebrahimi/financial-distress"
   ]
  },
  {
   "cell_type": "markdown",
   "metadata": {},
   "source": [
    "Apply MinMaxScaler, use all data to do 5-fold CV"
   ]
  },
  {
   "cell_type": "code",
   "execution_count": 1,
   "metadata": {},
   "outputs": [
    {
     "name": "stderr",
     "output_type": "stream",
     "text": [
      "/home/r7user5/anaconda3/lib/python3.7/site-packages/dask/dataframe/utils.py:13: FutureWarning: pandas.util.testing is deprecated. Use the functions in the public API at pandas.testing instead.\n",
      "  import pandas.util.testing as tm\n"
     ]
    }
   ],
   "source": [
    "import numpy as np\n",
    "import pandas as pd\n",
    "import sys\n",
    "sys.path.insert(1, '/home/r7user5/Desktop/STAT')\n",
    "import comonotonic as cm\n",
    "import os\n",
    "from sklearn.model_selection import train_test_split\n",
    "from sklearn import preprocessing\n",
    "from sklearn.model_selection import KFold\n",
    "from sklearn.metrics import accuracy_score\n",
    "import copy\n",
    "import utils\n",
    "import matplotlib.pyplot as plt\n",
    "import seaborn as sns\n",
    "from sklearn.metrics import classification_report\n",
    "from imblearn.over_sampling import SMOTE\n",
    "import ensemble_ciber as ec\n",
    "import conditional_ciber as cc\n",
    "from sklearn.ensemble import AdaBoostClassifier\n",
    "from sklearn.ensemble import RandomForestClassifier\n",
    "import xgboost as xgb\n",
    "import lightgbm as lgb\n",
    "from sklearn import tree\n",
    "from sklearn.svm import SVC\n",
    "from sklearn.linear_model import LogisticRegression\n",
    "from sklearn.naive_bayes import GaussianNB\n",
    "from imblearn.over_sampling import SMOTENC\n",
    "import xlsxwriter\n",
    "from sklearn.feature_selection import SelectPercentile, f_classif"
   ]
  },
  {
   "cell_type": "code",
   "execution_count": 2,
   "metadata": {},
   "outputs": [],
   "source": [
    "df = pd.read_csv(\"Financial Distress.csv\")\n",
    "df['Financial Distress'].values[df['Financial Distress'].values > -0.5] = 0\n",
    "df['Financial Distress'].values[df['Financial Distress'].values <= -0.5] = 1\n",
    "df['x80'] = df['x80']-1\n",
    "df['Financial Distress'] = df['Financial Distress'].astype(int)\n",
    "distress = df['Financial Distress']\n",
    "df = df.drop(columns=['Company','Time','Financial Distress'])\n",
    "df['Financial Distress'] = distress\n",
    "colnames = [('X'+str(i)) for i in range(df.shape[1]-1)]\n",
    "colnames.append('Y')\n",
    "df.columns = colnames"
   ]
  },
  {
   "cell_type": "code",
   "execution_count": 3,
   "metadata": {},
   "outputs": [],
   "source": [
    "categorical = [79]\n",
    "cont_col = [i for i in range(79)]+[i for i in range(80,83)]\n",
    "discrete_feature_val = {79:37}"
   ]
  },
  {
   "cell_type": "code",
   "execution_count": 4,
   "metadata": {},
   "outputs": [],
   "source": [
    "scaler = preprocessing.MinMaxScaler()\n",
    "scale_col_name = [\"X\"+str(i) for i in cont_col]\n",
    "df[scale_col_name] = scaler.fit_transform(df[scale_col_name])\n",
    "reduced_df = utils.outlier_removal(df, cont_col)"
   ]
  },
  {
   "cell_type": "code",
   "execution_count": 5,
   "metadata": {},
   "outputs": [],
   "source": [
    "x = reduced_df.iloc[:,:-1].to_numpy()\n",
    "y = reduced_df.iloc[:,-1].to_numpy()\n",
    "smote_nc = SMOTENC(categorical_features=[79], random_state=0)\n",
    "x_resample, y_resample = smote_nc.fit_resample(x, y)"
   ]
  },
  {
   "cell_type": "code",
   "execution_count": 6,
   "metadata": {},
   "outputs": [],
   "source": [
    "# select a proportion of features\n",
    "percentile = 50\n",
    "x_new = SelectPercentile(f_classif, percentile = percentile).fit_transform(x_resample, y_resample)"
   ]
  },
  {
   "cell_type": "code",
   "execution_count": 7,
   "metadata": {},
   "outputs": [
    {
     "name": "stderr",
     "output_type": "stream",
     "text": [
      "/home/r7user5/anaconda3/lib/python3.7/site-packages/sklearn/ensemble/forest.py:245: FutureWarning: The default value of n_estimators will change from 10 in version 0.20 to 100 in 0.22.\n",
      "  \"10 in version 0.20 to 100 in 0.22.\", FutureWarning)\n",
      "/home/r7user5/anaconda3/lib/python3.7/site-packages/sklearn/svm/base.py:193: FutureWarning: The default value of gamma will change from 'auto' to 'scale' in version 0.22 to account better for unscaled features. Set gamma explicitly to 'auto' or 'scale' to avoid this warning.\n",
      "  \"avoid this warning.\", FutureWarning)\n",
      "/home/r7user5/anaconda3/lib/python3.7/site-packages/sklearn/linear_model/logistic.py:432: FutureWarning: Default solver will be changed to 'lbfgs' in 0.22. Specify a solver to silence this warning.\n",
      "  FutureWarning)\n"
     ]
    },
    {
     "name": "stdout",
     "output_type": "stream",
     "text": [
      "1\n"
     ]
    },
    {
     "name": "stderr",
     "output_type": "stream",
     "text": [
      "/home/r7user5/anaconda3/lib/python3.7/site-packages/sklearn/ensemble/forest.py:245: FutureWarning: The default value of n_estimators will change from 10 in version 0.20 to 100 in 0.22.\n",
      "  \"10 in version 0.20 to 100 in 0.22.\", FutureWarning)\n",
      "/home/r7user5/anaconda3/lib/python3.7/site-packages/sklearn/svm/base.py:193: FutureWarning: The default value of gamma will change from 'auto' to 'scale' in version 0.22 to account better for unscaled features. Set gamma explicitly to 'auto' or 'scale' to avoid this warning.\n",
      "  \"avoid this warning.\", FutureWarning)\n",
      "/home/r7user5/anaconda3/lib/python3.7/site-packages/sklearn/linear_model/logistic.py:432: FutureWarning: Default solver will be changed to 'lbfgs' in 0.22. Specify a solver to silence this warning.\n",
      "  FutureWarning)\n"
     ]
    },
    {
     "name": "stdout",
     "output_type": "stream",
     "text": [
      "2\n"
     ]
    },
    {
     "name": "stderr",
     "output_type": "stream",
     "text": [
      "/home/r7user5/anaconda3/lib/python3.7/site-packages/sklearn/ensemble/forest.py:245: FutureWarning: The default value of n_estimators will change from 10 in version 0.20 to 100 in 0.22.\n",
      "  \"10 in version 0.20 to 100 in 0.22.\", FutureWarning)\n",
      "/home/r7user5/anaconda3/lib/python3.7/site-packages/sklearn/svm/base.py:193: FutureWarning: The default value of gamma will change from 'auto' to 'scale' in version 0.22 to account better for unscaled features. Set gamma explicitly to 'auto' or 'scale' to avoid this warning.\n",
      "  \"avoid this warning.\", FutureWarning)\n",
      "/home/r7user5/anaconda3/lib/python3.7/site-packages/sklearn/linear_model/logistic.py:432: FutureWarning: Default solver will be changed to 'lbfgs' in 0.22. Specify a solver to silence this warning.\n",
      "  FutureWarning)\n"
     ]
    },
    {
     "name": "stdout",
     "output_type": "stream",
     "text": [
      "3\n"
     ]
    },
    {
     "name": "stderr",
     "output_type": "stream",
     "text": [
      "/home/r7user5/anaconda3/lib/python3.7/site-packages/sklearn/ensemble/forest.py:245: FutureWarning: The default value of n_estimators will change from 10 in version 0.20 to 100 in 0.22.\n",
      "  \"10 in version 0.20 to 100 in 0.22.\", FutureWarning)\n",
      "/home/r7user5/anaconda3/lib/python3.7/site-packages/sklearn/svm/base.py:193: FutureWarning: The default value of gamma will change from 'auto' to 'scale' in version 0.22 to account better for unscaled features. Set gamma explicitly to 'auto' or 'scale' to avoid this warning.\n",
      "  \"avoid this warning.\", FutureWarning)\n",
      "/home/r7user5/anaconda3/lib/python3.7/site-packages/sklearn/linear_model/logistic.py:432: FutureWarning: Default solver will be changed to 'lbfgs' in 0.22. Specify a solver to silence this warning.\n",
      "  FutureWarning)\n"
     ]
    },
    {
     "name": "stdout",
     "output_type": "stream",
     "text": [
      "4\n"
     ]
    },
    {
     "name": "stderr",
     "output_type": "stream",
     "text": [
      "/home/r7user5/anaconda3/lib/python3.7/site-packages/sklearn/ensemble/forest.py:245: FutureWarning: The default value of n_estimators will change from 10 in version 0.20 to 100 in 0.22.\n",
      "  \"10 in version 0.20 to 100 in 0.22.\", FutureWarning)\n",
      "/home/r7user5/anaconda3/lib/python3.7/site-packages/sklearn/svm/base.py:193: FutureWarning: The default value of gamma will change from 'auto' to 'scale' in version 0.22 to account better for unscaled features. Set gamma explicitly to 'auto' or 'scale' to avoid this warning.\n",
      "  \"avoid this warning.\", FutureWarning)\n",
      "/home/r7user5/anaconda3/lib/python3.7/site-packages/sklearn/linear_model/logistic.py:432: FutureWarning: Default solver will be changed to 'lbfgs' in 0.22. Specify a solver to silence this warning.\n",
      "  FutureWarning)\n"
     ]
    },
    {
     "name": "stdout",
     "output_type": "stream",
     "text": [
      "5\n"
     ]
    }
   ],
   "source": [
    "k_fold = KFold(n_splits = 5, shuffle = True)\n",
    "ciber_record = list()\n",
    "ada_record = list()\n",
    "rf_record = list()\n",
    "xgb_record = list()\n",
    "lgb_record = list()\n",
    "DT_record = list()\n",
    "svm_record = list()\n",
    "lr_record = list()\n",
    "nb_record = list()\n",
    "gaussian_nb_record = list()\n",
    "\n",
    "itr = 1\n",
    "for train_idx, test_idx in k_fold.split(x_resample):\n",
    "    x_train, x_test = x_resample[train_idx,:], x_resample[test_idx,:]\n",
    "    y_train, y_test = y_resample[train_idx], y_resample[test_idx]\n",
    "    # ciber\n",
    "    ciber = cm.clustered_comonotonic(x_train,y_train,discrete_feature_val,cont_col,\n",
    "                                     categorical, 0.98, None, corrtype='mutual_info',\n",
    "                                     discrete_method='mdlp')\n",
    "    ciber.run()\n",
    "    ciber_predict = ciber.predict(x_test)\n",
    "    ciber_record.append(accuracy_score(y_test, ciber_predict))\n",
    "    #  adaboost\n",
    "    ada_clf = AdaBoostClassifier()\n",
    "    ada_clf.fit(x_train,y_train)\n",
    "    ada_predict = ada_clf.predict(x_test)\n",
    "    ada_record.append(accuracy_score(y_test, ada_predict))\n",
    "    # random forest\n",
    "    rf_clf = RandomForestClassifier()\n",
    "    rf_clf.fit(x_train,y_train)\n",
    "    rf_predict = rf_clf.predict(x_test)\n",
    "    rf_record.append(accuracy_score(y_test, rf_predict))\n",
    "    # xgboost\n",
    "    xgb_clf = xgb.XGBClassifier()\n",
    "    xgb_clf.fit(x_train,y_train)\n",
    "    xgb_predict = xgb_clf.predict(x_test)\n",
    "    xgb_record.append(accuracy_score(y_test, xgb_predict))\n",
    "    # light GBM\n",
    "    lgb_clf = lgb.LGBMClassifier()\n",
    "    lgb_clf.fit(x_train, y_train)\n",
    "    lgb_predict = lgb_clf.predict(x_test)\n",
    "    lgb_predict = lgb_predict.round(0).astype('int')\n",
    "    lgb_record.append(accuracy_score(y_test, lgb_predict))\n",
    "    # decision tree\n",
    "    DT_clf = tree.DecisionTreeClassifier()\n",
    "    DT_clf.fit(x_train, y_train)\n",
    "    DT_predict = DT_clf.predict(x_test)\n",
    "    DT_record.append(accuracy_score(y_test, DT_predict))\n",
    "    # svm\n",
    "    svm = SVC()\n",
    "    svm.fit(x_train, y_train)\n",
    "    svm_predict = svm.predict(x_test)\n",
    "    svm_record.append(accuracy_score(y_test, svm_predict))\n",
    "    # logistic regression\n",
    "    lr_clf = LogisticRegression()\n",
    "    lr_clf.fit(x_train, y_train)\n",
    "    lr_predict = lr_clf.predict(x_test)\n",
    "    lr_record.append(accuracy_score(y_test, lr_predict))\n",
    "    # nb by ciber\n",
    "    nb_clf = cm.clustered_comonotonic(x_train,y_train,discrete_feature_val,cont_col,\n",
    "                                    categorical, 1, None, corrtype='spearman',\n",
    "                                    discrete_method='mdlp')\n",
    "    nb_clf.run()\n",
    "    nb_predict = nb_clf.predict(x_test)\n",
    "    nb_record.append(accuracy_score(y_test, nb_predict))\n",
    "    # gaussian nb\n",
    "    gaussian_nb = GaussianNB()\n",
    "    gaussian_nb.fit(x_train, y_train)\n",
    "    gaussian_predict = gaussian_nb.predict(x_test)\n",
    "    gaussian_nb_record.append(accuracy_score(y_test, gaussian_predict))\n",
    "    \n",
    "    print(itr)\n",
    "    itr += 1\n",
    "    del x_train, x_test, y_train, y_test"
   ]
  },
  {
   "cell_type": "code",
   "execution_count": 8,
   "metadata": {},
   "outputs": [],
   "source": [
    "record = dict()\n",
    "record['ciber'] = ciber_record\n",
    "record['adaboost'] = ada_record\n",
    "record['random forest'] = rf_record\n",
    "record['xgboost'] = xgb_record\n",
    "record['light GBM'] = lgb_record\n",
    "record['decision tree'] = DT_record\n",
    "record['svm'] = svm_record\n",
    "record['logistic regress'] = lr_record\n",
    "record['ciber nb'] = nb_record\n",
    "record['gaussian nb'] = gaussian_nb_record\n",
    "\n",
    "workbook = xlsxwriter.Workbook('5-fold CV.xlsx') \n",
    "worksheet = workbook.add_worksheet() \n",
    "row = 0\n",
    "for method in record.keys():\n",
    "    column = 1\n",
    "    worksheet.write(row, 0, method)\n",
    "    for acc in record[method]:\n",
    "        worksheet.write(row, column, acc)\n",
    "        column += 1\n",
    "    row += 1\n",
    "workbook.close()"
   ]
  },
  {
   "cell_type": "code",
   "execution_count": 8,
   "metadata": {},
   "outputs": [],
   "source": [
    "x_train,x_test,y_train,y_test = train_test_split(x_new,y_resample,test_size=0.2,random_state=14)"
   ]
  },
  {
   "cell_type": "code",
   "execution_count": 7,
   "metadata": {},
   "outputs": [],
   "source": [
    "# an unsuccessful bagging\n",
    "# ciber = ec.bagging_ciber(n_estimators = 5, max_workers = 10)\n",
    "# ciber.fit(x_train,y_train,discrete_feature_val,cont_col,categorical,0.8,None)\n",
    "# prediction = ciber.predict(x_test)\n",
    "# print(classification_report(y_test, prediction))"
   ]
  },
  {
   "cell_type": "code",
   "execution_count": 18,
   "metadata": {},
   "outputs": [
    {
     "name": "stdout",
     "output_type": "stream",
     "text": [
      "              precision    recall  f1-score   support\n",
      "\n",
      "           0       0.92      0.87      0.90       714\n",
      "           1       0.87      0.92      0.90       681\n",
      "\n",
      "    accuracy                           0.90      1395\n",
      "   macro avg       0.90      0.90      0.90      1395\n",
      "weighted avg       0.90      0.90      0.90      1395\n",
      "\n"
     ]
    }
   ],
   "source": [
    "c_como_demo = cm.clustered_comonotonic(x_train,y_train,discrete_feature_val,cont_col,\n",
    "                                      categorical, 1, None, corrtype='mutual_info',\n",
    "                                      discrete_method='mdlp')\n",
    "c_como_demo.run()\n",
    "c_como_predict = c_como_demo.predict(x_test)\n",
    "print(classification_report(y_test,c_como_predict))"
   ]
  },
  {
   "cell_type": "code",
   "execution_count": 17,
   "metadata": {},
   "outputs": [
    {
     "name": "stdout",
     "output_type": "stream",
     "text": [
      "[[0], [1], [2, 11], [3], [4], [5], [6], [7], [8], [9], [10], [12], [13], [14], [15], [16], [17], [18, 31], [19], [20], [21], [22], [23], [24], [25], [26], [27], [28], [29], [30], [32], [33], [34], [35], [36], [37], [38], [39], [40]]\n"
     ]
    }
   ],
   "source": [
    "c_como_demo.print_cluster()"
   ]
  },
  {
   "cell_type": "code",
   "execution_count": 9,
   "metadata": {},
   "outputs": [],
   "source": [
    "# an unsuccessful conditional ciber\n",
    "# cond_ciber = cc.conditional_ciber(x_train, y_train)\n",
    "# cond_ciber.fit(discrete_feature_val,cont_col,categorical, 0.98, None, \n",
    "#                corrtype='mutual_info', discrete_method='mdlp')\n",
    "# cc_prediction = cond_ciber.predict(x_test)\n",
    "# print(classification_report(y_test, cc_prediction))"
   ]
  },
  {
   "cell_type": "code",
   "execution_count": 10,
   "metadata": {},
   "outputs": [
    {
     "name": "stdout",
     "output_type": "stream",
     "text": [
      "              precision    recall  f1-score   support\n",
      "\n",
      "           0       1.00      0.96      0.98       714\n",
      "           1       0.96      1.00      0.98       681\n",
      "\n",
      "    accuracy                           0.98      1395\n",
      "   macro avg       0.98      0.98      0.98      1395\n",
      "weighted avg       0.98      0.98      0.98      1395\n",
      "\n"
     ]
    }
   ],
   "source": [
    "import xgboost as xgb\n",
    "xgb_clf = xgb.XGBClassifier()\n",
    "xgb_clf.fit(x_train,y_train)\n",
    "xgb_predict = xgb_clf.predict(x_test)\n",
    "print(classification_report(y_test, xgb_predict))"
   ]
  },
  {
   "cell_type": "code",
   "execution_count": 10,
   "metadata": {},
   "outputs": [
    {
     "name": "stdout",
     "output_type": "stream",
     "text": [
      "0.09233894895789105\n"
     ]
    }
   ],
   "source": [
    "xgb_proba = xgb_clf.predict_proba(x_test)\n",
    "print(utils.cross_entropy(xgb_proba, y_test))"
   ]
  },
  {
   "cell_type": "code",
   "execution_count": 11,
   "metadata": {},
   "outputs": [
    {
     "name": "stderr",
     "output_type": "stream",
     "text": [
      "/home/r7user5/anaconda3/lib/python3.7/site-packages/sklearn/ensemble/forest.py:245: FutureWarning: The default value of n_estimators will change from 10 in version 0.20 to 100 in 0.22.\n",
      "  \"10 in version 0.20 to 100 in 0.22.\", FutureWarning)\n"
     ]
    },
    {
     "name": "stdout",
     "output_type": "stream",
     "text": [
      "              precision    recall  f1-score   support\n",
      "\n",
      "           0       0.99      0.96      0.97       714\n",
      "           1       0.96      0.99      0.97       681\n",
      "\n",
      "    accuracy                           0.97      1395\n",
      "   macro avg       0.97      0.97      0.97      1395\n",
      "weighted avg       0.97      0.97      0.97      1395\n",
      "\n"
     ]
    }
   ],
   "source": [
    "from sklearn.ensemble import RandomForestClassifier\n",
    "rf_clf = RandomForestClassifier()\n",
    "rf_clf.fit(x_train,y_train)\n",
    "rf_predict = rf_clf.predict(x_test)\n",
    "print(classification_report(y_test, rf_predict))"
   ]
  },
  {
   "cell_type": "code",
   "execution_count": 12,
   "metadata": {},
   "outputs": [
    {
     "name": "stdout",
     "output_type": "stream",
     "text": [
      "0.12500483664301854\n"
     ]
    }
   ],
   "source": [
    "rf_proba = rf_clf.predict_proba(x_test)\n",
    "print(utils.cross_entropy(rf_proba, y_test))"
   ]
  },
  {
   "cell_type": "code",
   "execution_count": 13,
   "metadata": {},
   "outputs": [
    {
     "name": "stdout",
     "output_type": "stream",
     "text": [
      "              precision    recall  f1-score   support\n",
      "\n",
      "           0       0.96      0.93      0.94       714\n",
      "           1       0.92      0.96      0.94       681\n",
      "\n",
      "    accuracy                           0.94      1395\n",
      "   macro avg       0.94      0.94      0.94      1395\n",
      "weighted avg       0.94      0.94      0.94      1395\n",
      "\n"
     ]
    }
   ],
   "source": [
    "from sklearn.ensemble import AdaBoostClassifier\n",
    "ada_clf = AdaBoostClassifier()\n",
    "ada_clf.fit(x_train,y_train)\n",
    "ada_predict = ada_clf.predict(x_test)\n",
    "print(classification_report(y_test, ada_predict))"
   ]
  },
  {
   "cell_type": "code",
   "execution_count": 14,
   "metadata": {},
   "outputs": [
    {
     "name": "stdout",
     "output_type": "stream",
     "text": [
      "0.8413441349424778\n"
     ]
    }
   ],
   "source": [
    "ada_proba = ada_clf.predict_proba(x_test)\n",
    "print(utils.cross_entropy(ada_proba, y_test))"
   ]
  },
  {
   "cell_type": "code",
   "execution_count": 21,
   "metadata": {},
   "outputs": [
    {
     "name": "stdout",
     "output_type": "stream",
     "text": [
      "              precision    recall  f1-score   support\n",
      "\n",
      "           0       0.99      0.95      0.97       714\n",
      "           1       0.95      0.99      0.97       681\n",
      "\n",
      "    accuracy                           0.97      1395\n",
      "   macro avg       0.97      0.97      0.97      1395\n",
      "weighted avg       0.97      0.97      0.97      1395\n",
      "\n"
     ]
    }
   ],
   "source": [
    "import lightgbm as lgb\n",
    "lgb_clf = lgb.LGBMClassifier()\n",
    "lgb_clf.fit(x_train, y_train)\n",
    "gbm_predict = gbm_clf.predict(x_test)\n",
    "gbm_predict = gbm_predict.round(0).astype('int')\n",
    "print(classification_report(y_test, gbm_predict))"
   ]
  },
  {
   "cell_type": "code",
   "execution_count": 24,
   "metadata": {},
   "outputs": [
    {
     "name": "stdout",
     "output_type": "stream",
     "text": [
      "0.0777683570831202\n"
     ]
    }
   ],
   "source": [
    "lgb_proba = lgb_clf.predict_proba(x_test)\n",
    "print(utils.cross_entropy(lgb_proba, y_test))"
   ]
  },
  {
   "cell_type": "code",
   "execution_count": 10,
   "metadata": {},
   "outputs": [
    {
     "name": "stdout",
     "output_type": "stream",
     "text": [
      "median: 0.5642857142857143\n",
      "half range: 0.016785714285714293\n"
     ]
    }
   ],
   "source": [
    "from sklearn.naive_bayes import GaussianNB\n",
    "cv = KFold(n_splits=5, shuffle=True)\n",
    "acc_nb = []\n",
    "for train_idx, test_idx in cv.split(X_resample):\n",
    "    train_x,test_x,train_y,test_y = X_resample[train_idx],X_resample[test_idx],Y_resample[train_idx],Y_resample[test_idx]\n",
    "    clf_nb = GaussianNB()\n",
    "    clf_nb.fit(train_x,train_y)\n",
    "    nb_predict = clf_nb.predict(test_x)\n",
    "    acc_nb.append(utils.get_accuracy(test_y, nb_predict))\n",
    "nb_med, nb_half_range = utils.kfold_summary(acc_nb)\n",
    "print(\"median: \"+str(nb_med))\n",
    "print(\"half range: \"+str(nb_half_range))"
   ]
  },
  {
   "cell_type": "code",
   "execution_count": 7,
   "metadata": {},
   "outputs": [
    {
     "name": "stdout",
     "output_type": "stream",
     "text": [
      "median: 0.95\n",
      "half range: 0.005714285714285727\n"
     ]
    }
   ],
   "source": [
    "from sklearn import tree\n",
    "cv = KFold(n_splits=5, shuffle=True)\n",
    "acc_DT = []\n",
    "for train_idx, test_idx in cv.split(X_resample):\n",
    "    train_x,test_x,train_y,test_y = X_resample[train_idx],X_resample[test_idx],Y_resample[train_idx],Y_resample[test_idx]\n",
    "    DT = tree.DecisionTreeClassifier()\n",
    "    DT.fit(train_x,train_y)\n",
    "    DT_predict = DT.predict(test_x)\n",
    "    acc_DT.append(accuracy_score(test_y, DT_predict))\n",
    "DT_med, DT_half_range = utils.kfold_summary(acc_DT)\n",
    "print(\"median: \"+str(DT_med))\n",
    "print(\"half range: \"+str(DT_half_range))"
   ]
  },
  {
   "cell_type": "code",
   "execution_count": 8,
   "metadata": {},
   "outputs": [
    {
     "name": "stdout",
     "output_type": "stream",
     "text": [
      "median: 0.8628571428571429\n",
      "half range: 0.004642857142857115\n"
     ]
    }
   ],
   "source": [
    "from sklearn.svm import SVC\n",
    "cv = KFold(n_splits=5, shuffle=True)\n",
    "acc_svm = []\n",
    "for train_idx, test_idx in cv.split(X_resample):\n",
    "    train_x,test_x,train_y,test_y = X_resample[train_idx],X_resample[test_idx],Y_resample[train_idx],Y_resample[test_idx]\n",
    "    svm = SVC()\n",
    "    svm.fit(train_x,train_y)\n",
    "    svm_predict = svm.predict(test_x)\n",
    "    acc_svm.append(utils.get_accuracy(test_y, svm_predict))\n",
    "svm_med, svm_half_range = utils.kfold_summary(acc_svm)\n",
    "print(\"median: \"+str(svm_med))\n",
    "print(\"half range: \"+str(svm_half_range))"
   ]
  },
  {
   "cell_type": "code",
   "execution_count": 13,
   "metadata": {},
   "outputs": [
    {
     "data": {
      "text/plain": [
       "<matplotlib.legend.Legend at 0x7fa6e387cc10>"
      ]
     },
     "execution_count": 13,
     "metadata": {},
     "output_type": "execute_result"
    },
    {
     "data": {
      "image/png": "[encoded data removed]",
      "text/plain": [
       "<Figure size 432x288 with 1 Axes>"
      ]
     },
     "metadata": {
      "needs_background": "light"
     },
     "output_type": "display_data"
    }
   ],
   "source": [
    "from sklearn.metrics import roc_curve, roc_auc_score\n",
    "import matplotlib.pyplot as plt\n",
    "nb_prob = clf_nb.predict_proba(x_test)\n",
    "nb_prob = nb_prob[:,1]\n",
    "nb_auc = roc_auc_score(y_test, nb_prob)\n",
    "nb_fpr, nb_tpr, _ = roc_curve(y_test, nb_prob)\n",
    "plt.plot(nb_fpr, nb_tpr, marker='.', label='nb_classifier')\n",
    "\n",
    "dt_prob = DT.predict_proba(x_test)\n",
    "dt_prob = dt_prob[:,1]\n",
    "dt_auc = roc_auc_score(y_test, dt_prob)\n",
    "dt_fpr, dt_tpr, _ = roc_curve(y_test, dt_prob)\n",
    "plt.plot(dt_fpr, dt_tpr, marker='v', label='DT_classifier')\n",
    "\n",
    "como_prob = clf_c_como.predict_proba(x_test)\n",
    "como_prob = como_prob[:,1]\n",
    "como_auc = roc_auc_score(y_test, como_prob)\n",
    "como_fpr, como_tpr, _ = roc_curve(y_test, como_prob)\n",
    "plt.plot(como_fpr, como_tpr, marker='_', label='c_como')\n",
    "\n",
    "plt.xlabel('False Positive Rate')\n",
    "plt.ylabel('True Positive Rate')\n",
    "plt.legend()"
   ]
  }
 ],
 "metadata": {
  "kernelspec": {
   "display_name": "Python 3",
   "language": "python",
   "name": "python3"
  },
  "language_info": {
   "codemirror_mode": {
    "name": "ipython",
    "version": 3
   },
   "file_extension": ".py",
   "mimetype": "text/x-python",
   "name": "python",
   "nbconvert_exporter": "python",
   "pygments_lexer": "ipython3",
   "version": "3.7.4"
  }
 },
 "nbformat": 4,
 "nbformat_minor": 2
}
