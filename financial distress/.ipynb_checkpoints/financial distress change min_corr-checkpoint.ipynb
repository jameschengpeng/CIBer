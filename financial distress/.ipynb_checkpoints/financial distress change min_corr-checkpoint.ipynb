{
 "cells": [
  {
   "cell_type": "markdown",
   "metadata": {},
   "source": [
    "https://www.kaggle.com/shebrahimi/financial-distress"
   ]
  },
  {
   "cell_type": "markdown",
   "metadata": {},
   "source": [
    "Fit a scaler on the training set and apply it directly to the test set. Only apply SMOTE to the training set. If the performance of the classifier on the minority class is bad, try ROC AUC curve in which the decision boundary is adjusted. "
   ]
  },
  {
   "cell_type": "code",
   "execution_count": 1,
   "metadata": {},
   "outputs": [
    {
     "name": "stderr",
     "output_type": "stream",
     "text": [
      "/home/r7user5/anaconda3/lib/python3.7/site-packages/dask/dataframe/utils.py:13: FutureWarning: pandas.util.testing is deprecated. Use the functions in the public API at pandas.testing instead.\n",
      "  import pandas.util.testing as tm\n"
     ]
    }
   ],
   "source": [
    "import numpy as np\n",
    "import pandas as pd\n",
    "import sys\n",
    "sys.path.insert(1, '/home/r7user5/Desktop/STAT')\n",
    "import comonotonic as cm\n",
    "import os\n",
    "from sklearn.model_selection import train_test_split\n",
    "from sklearn import preprocessing\n",
    "from sklearn.model_selection import KFold\n",
    "from sklearn.metrics import accuracy_score\n",
    "import copy\n",
    "import utils\n",
    "import matplotlib.pyplot as plt\n",
    "import seaborn as sns\n",
    "from sklearn.metrics import classification_report, roc_auc_score\n",
    "from imblearn.over_sampling import SMOTE\n",
    "import ensemble_ciber as ec\n",
    "import conditional_ciber as cc\n",
    "from sklearn.ensemble import AdaBoostClassifier\n",
    "from sklearn.ensemble import RandomForestClassifier\n",
    "import xgboost as xgb\n",
    "import lightgbm as lgb\n",
    "from sklearn import tree\n",
    "from sklearn.svm import SVC\n",
    "from sklearn.linear_model import LogisticRegression\n",
    "from sklearn.naive_bayes import GaussianNB\n",
    "from imblearn.over_sampling import SMOTENC\n",
    "import xlsxwriter\n",
    "from sklearn.metrics import confusion_matrix"
   ]
  },
  {
   "cell_type": "code",
   "execution_count": 2,
   "metadata": {},
   "outputs": [],
   "source": [
    "df = pd.read_csv(\"Financial Distress.csv\")\n",
    "df['Financial Distress'].values[df['Financial Distress'].values > -0.5] = 0\n",
    "df['Financial Distress'].values[df['Financial Distress'].values <= -0.5] = 1\n",
    "df['x80'] = df['x80']-1\n",
    "df['Financial Distress'] = df['Financial Distress'].astype(int)\n",
    "distress = df['Financial Distress']\n",
    "df = df.drop(columns=['Company','Time','Financial Distress'])\n",
    "df['Financial Distress'] = distress\n",
    "colnames = [('X'+str(i)) for i in range(df.shape[1]-1)]\n",
    "colnames.append('Y')\n",
    "df.columns = colnames"
   ]
  },
  {
   "cell_type": "code",
   "execution_count": 3,
   "metadata": {},
   "outputs": [],
   "source": [
    "categorical = [79]\n",
    "cont_col = [i for i in range(79)]+[i for i in range(80,83)]\n",
    "discrete_feature_val = {79:37}"
   ]
  },
  {
   "cell_type": "code",
   "execution_count": 4,
   "metadata": {},
   "outputs": [],
   "source": [
    "df_train, df_test = train_test_split(df, test_size=0.3, stratify=df[['Y']])"
   ]
  },
  {
   "cell_type": "code",
   "execution_count": 5,
   "metadata": {},
   "outputs": [
    {
     "name": "stderr",
     "output_type": "stream",
     "text": [
      "/home/r7user5/anaconda3/lib/python3.7/site-packages/ipykernel_launcher.py:3: SettingWithCopyWarning: \n",
      "A value is trying to be set on a copy of a slice from a DataFrame.\n",
      "Try using .loc[row_indexer,col_indexer] = value instead\n",
      "\n",
      "See the caveats in the documentation: https://pandas.pydata.org/pandas-docs/stable/user_guide/indexing.html#returning-a-view-versus-a-copy\n",
      "  This is separate from the ipykernel package so we can avoid doing imports until\n",
      "/home/r7user5/anaconda3/lib/python3.7/site-packages/pandas/core/indexing.py:1736: SettingWithCopyWarning: \n",
      "A value is trying to be set on a copy of a slice from a DataFrame.\n",
      "Try using .loc[row_indexer,col_indexer] = value instead\n",
      "\n",
      "See the caveats in the documentation: https://pandas.pydata.org/pandas-docs/stable/user_guide/indexing.html#returning-a-view-versus-a-copy\n",
      "  isetter(loc, value[:, i].tolist())\n"
     ]
    }
   ],
   "source": [
    "scaler = preprocessing.MinMaxScaler()\n",
    "scale_col_name = [\"X\"+str(i) for i in cont_col]\n",
    "df_train[scale_col_name] = scaler.fit_transform(df_train[scale_col_name])\n",
    "reduced_df_train = utils.outlier_removal(df_train, cont_col)"
   ]
  },
  {
   "cell_type": "code",
   "execution_count": 6,
   "metadata": {},
   "outputs": [
    {
     "name": "stderr",
     "output_type": "stream",
     "text": [
      "/home/r7user5/anaconda3/lib/python3.7/site-packages/ipykernel_launcher.py:1: SettingWithCopyWarning: \n",
      "A value is trying to be set on a copy of a slice from a DataFrame.\n",
      "Try using .loc[row_indexer,col_indexer] = value instead\n",
      "\n",
      "See the caveats in the documentation: https://pandas.pydata.org/pandas-docs/stable/user_guide/indexing.html#returning-a-view-versus-a-copy\n",
      "  \"\"\"Entry point for launching an IPython kernel.\n",
      "/home/r7user5/anaconda3/lib/python3.7/site-packages/pandas/core/indexing.py:1736: SettingWithCopyWarning: \n",
      "A value is trying to be set on a copy of a slice from a DataFrame.\n",
      "Try using .loc[row_indexer,col_indexer] = value instead\n",
      "\n",
      "See the caveats in the documentation: https://pandas.pydata.org/pandas-docs/stable/user_guide/indexing.html#returning-a-view-versus-a-copy\n",
      "  isetter(loc, value[:, i].tolist())\n"
     ]
    }
   ],
   "source": [
    "df_test[scale_col_name] = scaler.transform(df_test[scale_col_name])"
   ]
  },
  {
   "cell_type": "code",
   "execution_count": 7,
   "metadata": {},
   "outputs": [],
   "source": [
    "# reduced_df_train stands for the dataframe for training after outlier removal\n",
    "x_train = reduced_df_train.iloc[:,:-1].to_numpy()\n",
    "y_train = reduced_df_train.iloc[:,-1].to_numpy()\n",
    "smote_nc = SMOTENC(categorical_features=[79], random_state=0)\n",
    "x_train_synthetic, y_train_synthetic = smote_nc.fit_resample(x_train, y_train)"
   ]
  },
  {
   "cell_type": "code",
   "execution_count": 8,
   "metadata": {},
   "outputs": [],
   "source": [
    "x_test = df_test.iloc[:,:-1].to_numpy()\n",
    "y_test = df_test.iloc[:,-1].to_numpy()"
   ]
  },
  {
   "cell_type": "code",
   "execution_count": 9,
   "metadata": {},
   "outputs": [
    {
     "name": "stdout",
     "output_type": "stream",
     "text": [
      "              precision    recall  f1-score   support\n",
      "\n",
      "           0       0.98      0.94      0.96      1061\n",
      "           1       0.25      0.54      0.34        41\n",
      "\n",
      "    accuracy                           0.92      1102\n",
      "   macro avg       0.61      0.74      0.65      1102\n",
      "weighted avg       0.95      0.92      0.94      1102\n",
      "\n",
      "0.7367186961219282\n"
     ]
    }
   ],
   "source": [
    "ciber = cm.clustered_comonotonic(x_train_synthetic,y_train_synthetic,\n",
    "                                 discrete_feature_val,cont_col,categorical, \n",
    "                                 0.9, None, corrtype='spearman',\n",
    "                                 discrete_method='mdlp')\n",
    "ciber.run()\n",
    "ciber_predict = ciber.predict(x_test)\n",
    "print(classification_report(y_test,ciber_predict))\n",
    "print(roc_auc_score(y_test, ciber_predict))"
   ]
  },
  {
   "cell_type": "code",
   "execution_count": 10,
   "metadata": {},
   "outputs": [
    {
     "name": "stdout",
     "output_type": "stream",
     "text": [
      "[[994  67]\n",
      " [ 19  22]]\n"
     ]
    }
   ],
   "source": [
    "print(confusion_matrix(y_test, ciber_predict))"
   ]
  },
  {
   "cell_type": "code",
   "execution_count": 21,
   "metadata": {},
   "outputs": [
    {
     "name": "stderr",
     "output_type": "stream",
     "text": [
      "/home/r7user5/anaconda3/lib/python3.7/site-packages/pandas/core/series.py:4569: SettingWithCopyWarning: \n",
      "A value is trying to be set on a copy of a slice from a DataFrame\n",
      "\n",
      "See the caveats in the documentation: https://pandas.pydata.org/pandas-docs/stable/user_guide/indexing.html#returning-a-view-versus-a-copy\n",
      "  method=method,\n",
      "/home/r7user5/anaconda3/lib/python3.7/site-packages/scipy/stats/stats.py:1713: FutureWarning: Using a non-tuple sequence for multidimensional indexing is deprecated; use `arr[tuple(seq)]` instead of `arr[seq]`. In the future this will be interpreted as an array index, `arr[np.array(seq)]`, which will result either in an error or a different result.\n",
      "  return np.add.reduce(sorted[indexer] * weights, axis=axis) / sumval\n"
     ]
    },
    {
     "data": {
      "text/plain": [
       "<seaborn.axisgrid.PairGrid at 0x7f6b75edaa10>"
      ]
     },
     "execution_count": 21,
     "metadata": {},
     "output_type": "execute_result"
    },
    {
     "data": {
      "image/png": "[encoded data removed]",
      "text/plain": [
       "<Figure size 610.5x540 with 12 Axes>"
      ]
     },
     "metadata": {
      "needs_background": "light"
     },
     "output_type": "display_data"
    }
   ],
   "source": [
    "clusters = [[0, 5, 44], [1, 7, 8, 24, 35, 45], [2, 12, 13, 46, 48], [3], [4, 15, 51], [6], [9, 80], [10], [11], [14, 34], [16, 33], [17, 19], [18], [20], [21], [22, 49], [23], [25, 50], [26], [27], [28, 32], [29], [30], [31], [36], [37], [38], [39], [40], [41, 54], [42], [43], [47], [52], [53], [55], [56], [57, 58], [59], [60, 61], [62], [63], [64], [65], [66], [67, 74, 75], [68], [69], [70], [71], [72], [73], [76], [77], [78], [81], [82]]\n",
    "df_4_plot = df.iloc[:,clusters[0]+[83]]\n",
    "df_4_plot[\"Y\"].replace({0:'class 0', 1:'class 1'}, inplace = True)\n",
    "sns.pairplot(df_4_plot,hue='Y')"
   ]
  },
  {
   "cell_type": "markdown",
   "metadata": {},
   "source": [
    "Looking at the class-wise distribution of each variable in the cluster, the smaller the class-wise distributions differs, the lower the power of judgement of the Naive Bayes, the more competitive of CIBer."
   ]
  },
  {
   "cell_type": "code",
   "execution_count": 11,
   "metadata": {},
   "outputs": [
    {
     "name": "stdout",
     "output_type": "stream",
     "text": [
      "              precision    recall  f1-score   support\n",
      "\n",
      "           0       1.00      0.60      0.75      1061\n",
      "           1       0.08      0.93      0.15        41\n",
      "\n",
      "    accuracy                           0.61      1102\n",
      "   macro avg       0.54      0.76      0.45      1102\n",
      "weighted avg       0.96      0.61      0.73      1102\n",
      "\n"
     ]
    }
   ],
   "source": [
    "gaussian_nb = GaussianNB()\n",
    "gaussian_nb.fit(x_train_synthetic, y_train_synthetic)\n",
    "gaussian_predict = gaussian_nb.predict(x_test)\n",
    "print(classification_report(y_test, gaussian_predict))"
   ]
  },
  {
   "cell_type": "code",
   "execution_count": 12,
   "metadata": {},
   "outputs": [
    {
     "name": "stdout",
     "output_type": "stream",
     "text": [
      "[[637 424]\n",
      " [  3  38]]\n"
     ]
    }
   ],
   "source": [
    "print(confusion_matrix(y_test, gaussian_predict))"
   ]
  },
  {
   "cell_type": "code",
   "execution_count": 13,
   "metadata": {},
   "outputs": [
    {
     "name": "stdout",
     "output_type": "stream",
     "text": [
      "              precision    recall  f1-score   support\n",
      "\n",
      "           0       0.98      0.97      0.97      1061\n",
      "           1       0.34      0.44      0.38        41\n",
      "\n",
      "    accuracy                           0.95      1102\n",
      "   macro avg       0.66      0.70      0.68      1102\n",
      "weighted avg       0.95      0.95      0.95      1102\n",
      "\n",
      "0.7030183214178984\n"
     ]
    }
   ],
   "source": [
    "xgb_clf = xgb.XGBClassifier()\n",
    "xgb_clf.fit(x_train_synthetic,y_train_synthetic)\n",
    "xgb_predict = xgb_clf.predict(x_test)\n",
    "print(classification_report(y_test, xgb_predict))\n",
    "print(roc_auc_score(y_test, xgb_predict))"
   ]
  },
  {
   "cell_type": "code",
   "execution_count": 14,
   "metadata": {},
   "outputs": [
    {
     "name": "stdout",
     "output_type": "stream",
     "text": [
      "[[1026   35]\n",
      " [  23   18]]\n"
     ]
    }
   ],
   "source": [
    "print(confusion_matrix(y_test, xgb_predict))"
   ]
  },
  {
   "cell_type": "code",
   "execution_count": 15,
   "metadata": {},
   "outputs": [
    {
     "name": "stderr",
     "output_type": "stream",
     "text": [
      "/home/r7user5/anaconda3/lib/python3.7/site-packages/sklearn/ensemble/forest.py:245: FutureWarning: The default value of n_estimators will change from 10 in version 0.20 to 100 in 0.22.\n",
      "  \"10 in version 0.20 to 100 in 0.22.\", FutureWarning)\n"
     ]
    },
    {
     "name": "stdout",
     "output_type": "stream",
     "text": [
      "              precision    recall  f1-score   support\n",
      "\n",
      "           0       0.97      0.97      0.97      1061\n",
      "           1       0.23      0.27      0.25        41\n",
      "\n",
      "    accuracy                           0.94      1102\n",
      "   macro avg       0.60      0.62      0.61      1102\n",
      "weighted avg       0.94      0.94      0.94      1102\n",
      "\n",
      "0.6167099606905588\n"
     ]
    }
   ],
   "source": [
    "rf_clf = RandomForestClassifier()\n",
    "rf_clf.fit(x_train_synthetic,y_train_synthetic)\n",
    "rf_predict = rf_clf.predict(x_test)\n",
    "print(classification_report(y_test, rf_predict))\n",
    "print(roc_auc_score(y_test, rf_predict))"
   ]
  },
  {
   "cell_type": "code",
   "execution_count": 16,
   "metadata": {},
   "outputs": [
    {
     "name": "stdout",
     "output_type": "stream",
     "text": [
      "[[1024   37]\n",
      " [  30   11]]\n"
     ]
    }
   ],
   "source": [
    "print(confusion_matrix(y_test, rf_predict))"
   ]
  },
  {
   "cell_type": "code",
   "execution_count": 17,
   "metadata": {},
   "outputs": [
    {
     "name": "stdout",
     "output_type": "stream",
     "text": [
      "              precision    recall  f1-score   support\n",
      "\n",
      "           0       0.98      0.94      0.96      1061\n",
      "           1       0.24      0.46      0.32        41\n",
      "\n",
      "    accuracy                           0.93      1102\n",
      "   macro avg       0.61      0.70      0.64      1102\n",
      "weighted avg       0.95      0.93      0.94      1102\n",
      "\n",
      "0.7034321050090802\n"
     ]
    }
   ],
   "source": [
    "DT_clf = tree.DecisionTreeClassifier()\n",
    "DT_clf.fit(x_train_synthetic, y_train_synthetic)\n",
    "DT_predict = DT_clf.predict(x_test)\n",
    "print(classification_report(y_test, DT_predict))\n",
    "print(roc_auc_score(y_test, DT_predict))"
   ]
  },
  {
   "cell_type": "code",
   "execution_count": 18,
   "metadata": {},
   "outputs": [
    {
     "name": "stdout",
     "output_type": "stream",
     "text": [
      "[[1001   60]\n",
      " [  22   19]]\n"
     ]
    }
   ],
   "source": [
    "print(confusion_matrix(y_test, DT_predict))"
   ]
  },
  {
   "cell_type": "code",
   "execution_count": 19,
   "metadata": {},
   "outputs": [
    {
     "name": "stderr",
     "output_type": "stream",
     "text": [
      "/home/r7user5/anaconda3/lib/python3.7/site-packages/sklearn/svm/base.py:193: FutureWarning: The default value of gamma will change from 'auto' to 'scale' in version 0.22 to account better for unscaled features. Set gamma explicitly to 'auto' or 'scale' to avoid this warning.\n",
      "  \"avoid this warning.\", FutureWarning)\n"
     ]
    },
    {
     "name": "stdout",
     "output_type": "stream",
     "text": [
      "              precision    recall  f1-score   support\n",
      "\n",
      "           0       0.99      0.83      0.90      1061\n",
      "           1       0.15      0.76      0.25        41\n",
      "\n",
      "    accuracy                           0.83      1102\n",
      "   macro avg       0.57      0.80      0.58      1102\n",
      "weighted avg       0.96      0.83      0.88      1102\n",
      "\n",
      "0.7951081584331395\n"
     ]
    }
   ],
   "source": [
    "svm = SVC(probability=True)\n",
    "svm.fit(x_train_synthetic, y_train_synthetic)\n",
    "svm_predict = svm.predict(x_test)\n",
    "print(classification_report(y_test, svm_predict))\n",
    "print(roc_auc_score(y_test, svm_predict))"
   ]
  },
  {
   "cell_type": "code",
   "execution_count": 20,
   "metadata": {},
   "outputs": [
    {
     "name": "stdout",
     "output_type": "stream",
     "text": [
      "[[885 176]\n",
      " [ 10  31]]\n"
     ]
    }
   ],
   "source": [
    "print(confusion_matrix(y_test, svm_predict))"
   ]
  },
  {
   "cell_type": "code",
   "execution_count": 21,
   "metadata": {},
   "outputs": [
    {
     "name": "stderr",
     "output_type": "stream",
     "text": [
      "/home/r7user5/anaconda3/lib/python3.7/site-packages/sklearn/linear_model/logistic.py:432: FutureWarning: Default solver will be changed to 'lbfgs' in 0.22. Specify a solver to silence this warning.\n",
      "  FutureWarning)\n"
     ]
    },
    {
     "name": "stdout",
     "output_type": "stream",
     "text": [
      "              precision    recall  f1-score   support\n",
      "\n",
      "           0       0.99      0.86      0.92      1061\n",
      "           1       0.19      0.83      0.30        41\n",
      "\n",
      "    accuracy                           0.86      1102\n",
      "   macro avg       0.59      0.84      0.61      1102\n",
      "weighted avg       0.96      0.86      0.90      1102\n",
      "\n",
      "0.8444173697156386\n"
     ]
    }
   ],
   "source": [
    "lr = LogisticRegression()\n",
    "lr.fit(x_train_synthetic, y_train_synthetic)\n",
    "lr_predict = lr.predict(x_test)\n",
    "print(classification_report(y_test, lr_predict))\n",
    "print(roc_auc_score(y_test, lr_predict))"
   ]
  },
  {
   "cell_type": "code",
   "execution_count": 22,
   "metadata": {},
   "outputs": [
    {
     "name": "stdout",
     "output_type": "stream",
     "text": [
      "[[912 149]\n",
      " [  7  34]]\n"
     ]
    }
   ],
   "source": [
    "print(confusion_matrix(y_test, lr_predict))"
   ]
  },
  {
   "cell_type": "code",
   "execution_count": 23,
   "metadata": {},
   "outputs": [],
   "source": [
    "from sklearn.metrics import roc_curve\n",
    "ciber_probs = ciber.predict_proba(x_test)[:,1]\n",
    "ciber_fpr, ciber_tpr, _ = roc_curve(y_test, ciber_probs)\n",
    "ciber_auc = roc_auc_score(y_test, ciber_probs)\n",
    "\n",
    "nb_probs = gaussian_nb.predict_proba(x_test)[:,1]\n",
    "nb_fpr, nb_tpr, _ = roc_curve(y_test, nb_probs)\n",
    "nb_auc = roc_auc_score(y_test, nb_probs)\n",
    "\n",
    "xgb_probs = xgb_clf.predict_proba(x_test)[:,1]\n",
    "xgb_fpr, xgb_tpr, _ = roc_curve(y_test, xgb_probs)\n",
    "xgb_auc = roc_auc_score(y_test, xgb_probs)\n",
    "\n",
    "rf_probs = rf_clf.predict_proba(x_test)[:,1]\n",
    "rf_fpr, rf_tpr, _ = roc_curve(y_test, rf_probs)\n",
    "rf_auc = roc_auc_score(y_test, rf_probs)\n",
    "\n",
    "DT_probs = DT_clf.predict_proba(x_test)[:,1]\n",
    "DT_fpr, DT_tpr, _ = roc_curve(y_test, DT_probs)\n",
    "DT_auc = roc_auc_score(y_test, DT_probs)\n",
    "\n",
    "svm_probs = svm.predict_proba(x_test)[:,1]\n",
    "svm_fpr, svm_tpr, _ = roc_curve(y_test, svm_probs)\n",
    "svm_auc = roc_auc_score(y_test, svm_probs)\n",
    "\n",
    "lr_probs = lr.predict_proba(x_test)[:,1]\n",
    "lr_fpr, lr_tpr, _ = roc_curve(y_test, lr_probs)\n",
    "lr_auc = roc_auc_score(y_test, lr_probs)"
   ]
  },
  {
   "cell_type": "code",
   "execution_count": 26,
   "metadata": {},
   "outputs": [],
   "source": [
    "base_probs = [0 for _ in range(len(y_test))]\n",
    "base_fpr, base_tpr, _ = roc_curve(y_test, base_probs)"
   ]
  },
  {
   "cell_type": "code",
   "execution_count": 37,
   "metadata": {},
   "outputs": [
    {
     "data": {
      "image/png": "[encoded data removed]",
      "text/plain": [
       "<Figure size 432x288 with 1 Axes>"
      ]
     },
     "metadata": {
      "needs_background": "light"
     },
     "output_type": "display_data"
    }
   ],
   "source": [
    "plt.plot(ciber_fpr, ciber_tpr, label='CIBer with AUC: ' + str(ciber_auc))\n",
    "plt.plot(nb_fpr, nb_tpr, label='Naive Bayes with AUC: ' + str(nb_auc))\n",
    "plt.plot(xgb_fpr, xgb_tpr, label='XGBoost with AUC: ' + str(xgb_auc))\n",
    "plt.plot(rf_fpr, rf_tpr, label='Random Forest with AUC: ' + str(rf_auc))\n",
    "plt.plot(DT_fpr, DT_tpr, label='Decision Tree with AUC: ' + str(DT_auc))\n",
    "plt.plot(svm_fpr, svm_tpr, label='SVM with AUC: ' + str(svm_auc))\n",
    "plt.plot(lr_fpr, lr_tpr, label='Logistic Regression with AUC: ' + str(lr_auc))\n",
    "plt.plot(base_fpr, base_tpr, linestyle='--', label='Baseline')\n",
    "\n",
    "plt.xlabel('False Positive Rate')\n",
    "plt.ylabel('True Positive Rate')\n",
    "plt.legend()\n",
    "plt.savefig('ROC Curve.png', format='png', dpi=1200)"
   ]
  },
  {
   "cell_type": "code",
   "execution_count": 36,
   "metadata": {},
   "outputs": [
    {
     "data": {
      "text/plain": [
       "<Figure size 432x288 with 0 Axes>"
      ]
     },
     "metadata": {},
     "output_type": "display_data"
    }
   ],
   "source": []
  }
 ],
 "metadata": {
  "kernelspec": {
   "display_name": "Python 3",
   "language": "python",
   "name": "python3"
  },
  "language_info": {
   "codemirror_mode": {
    "name": "ipython",
    "version": 3
   },
   "file_extension": ".py",
   "mimetype": "text/x-python",
   "name": "python",
   "nbconvert_exporter": "python",
   "pygments_lexer": "ipython3",
   "version": "3.7.4"
  }
 },
 "nbformat": 4,
 "nbformat_minor": 2
}
